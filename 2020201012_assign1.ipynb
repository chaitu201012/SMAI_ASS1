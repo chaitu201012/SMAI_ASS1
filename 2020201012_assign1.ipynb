{
  "nbformat": 4,
  "nbformat_minor": 0,
  "metadata": {
    "colab": {
      "name": "2020201012_assign1.ipynb",
      "provenance": [],
      "collapsed_sections": []
    },
    "kernelspec": {
      "display_name": "Python 3",
      "name": "python3"
    }
  },
  "cells": [
    {
      "cell_type": "markdown",
      "metadata": {
        "id": "V5RPXC993g5f"
      },
      "source": [
        "**INSTRUCTIONS**"
      ]
    },
    {
      "cell_type": "markdown",
      "metadata": {
        "id": "wc6StAvu3oRv"
      },
      "source": [
        "\n",
        "\n",
        "1.  The assignment contains four questions. A few bonus questions are mentioned. \n",
        "2.   This assignment is due on **6th Feb, 23:59 **(**No Further extensions**).\n",
        "3.   Assignment must be implemented in Python 3 only.\n",
        "4.   You are allowed to use libraries for data preprocessing (numpy, pandas etc) and for evaluation metrics, data visualization (matplotlib etc.).\n",
        "5.   You will be evaluated not just on the overall performance of the model and also on the experimentation with hyper parameters, data prepossessing techniques etc.\n",
        "6.   The report file must be a well documented jupyter notebook, explaining the experiments you have performed, evaluation metrics and corresponding code. The code must run and be able to reproduce the accuracies, figures/graphs etc.\n",
        "7.   For all the questions, you must create a train-validation data split and test the hyperparameter tuning on the validation set. Your jupyter notebook must reflect the same.\n",
        "8.   Any attempts at **plagiarism will be penalized heavily**.\n",
        "9.   Make sure you run and save your notebooks before submission.\n",
        "10.  For question 3 of the Decision Trees section, output your model's depth first traversal into ```outputimp.txt``` and submit it along with the ipynb file.\n",
        "10. Naming convention for the ipynb file is ```<roll_number>_assign1.ipynb```\n",
        "11. Compress your submission files into a zip file with the naming convention: ```<roll_number>_assign1.zip``` and submit in the portal."
      ]
    },
    {
      "cell_type": "markdown",
      "metadata": {
        "id": "nncP5eQd0IXL"
      },
      "source": [
        "#**1) REGRESSION**\n",
        "\n",
        "Please find the Diamond Price Prediction Data set https://drive.google.com/drive/folders/1qE1tm3Ke3uotTyv6SUqruI09t-AkcwRK?usp=sharing. \"description.txt\" contains the feature description of data, \"diamonds.csv\" has the data."
      ]
    },
    {
      "cell_type": "code",
      "metadata": {
        "id": "gpLDQOVcwvD_"
      },
      "source": [
        "# Import necessary statements \n",
        "from sklearn import preprocessing\n",
        "import sklearn\n",
        "import random\n",
        "from numpy.random import permutation\n",
        "import pandas as pd\n",
        "import numpy as np \n",
        "from math import sqrt \n",
        "from prettytable import PrettyTable\n",
        "import matplotlib.pyplot as plt\n",
        "from sklearn.neighbors import KNeighborsRegressor\n",
        "from sklearn.model_selection import train_test_split\n",
        "import math\n",
        "from scipy.stats import pearsonr\n",
        "from sklearn.linear_model import LinearRegression\n",
        "%matplotlib inline"
      ],
      "execution_count": null,
      "outputs": []
    },
    {
      "cell_type": "code",
      "metadata": {
        "colab": {
          "base_uri": "https://localhost:8080/",
          "height": 166
        },
        "id": "EhFbx6v-4SP8",
        "outputId": "66bc2b45-cdf1-46f1-a1e7-01c4a52ed2c5"
      },
      "source": [
        "# To read data from diamonds.csv\n",
        "\n",
        "headers = [\"carat\",\t\"cut\",\"color\",\"clarity\",\"depth\",\"table\",\"price\",\"x\",\"y\",\"z\"]\n",
        "data = pd.read_csv('/content/sample_data/diamonds.csv', na_values='?',    \n",
        "         header=None,  names = headers) \n",
        "data = data.reset_index(drop=True)\n",
        "data = data.iloc[1:]\n",
        "regression_data=data\n",
        "#data = data[:200]\n",
        "data.describe()\n",
        "#print(data) "
      ],
      "execution_count": null,
      "outputs": [
        {
          "output_type": "execute_result",
          "data": {
            "text/html": [
              "<div>\n",
              "<style scoped>\n",
              "    .dataframe tbody tr th:only-of-type {\n",
              "        vertical-align: middle;\n",
              "    }\n",
              "\n",
              "    .dataframe tbody tr th {\n",
              "        vertical-align: top;\n",
              "    }\n",
              "\n",
              "    .dataframe thead th {\n",
              "        text-align: right;\n",
              "    }\n",
              "</style>\n",
              "<table border=\"1\" class=\"dataframe\">\n",
              "  <thead>\n",
              "    <tr style=\"text-align: right;\">\n",
              "      <th></th>\n",
              "      <th>carat</th>\n",
              "      <th>cut</th>\n",
              "      <th>color</th>\n",
              "      <th>clarity</th>\n",
              "      <th>depth</th>\n",
              "      <th>table</th>\n",
              "      <th>price</th>\n",
              "      <th>x</th>\n",
              "      <th>y</th>\n",
              "      <th>z</th>\n",
              "    </tr>\n",
              "  </thead>\n",
              "  <tbody>\n",
              "    <tr>\n",
              "      <th>count</th>\n",
              "      <td>53940</td>\n",
              "      <td>53940</td>\n",
              "      <td>53940</td>\n",
              "      <td>53940</td>\n",
              "      <td>53940</td>\n",
              "      <td>53940</td>\n",
              "      <td>53940</td>\n",
              "      <td>53940</td>\n",
              "      <td>53940</td>\n",
              "      <td>53940</td>\n",
              "    </tr>\n",
              "    <tr>\n",
              "      <th>unique</th>\n",
              "      <td>273</td>\n",
              "      <td>5</td>\n",
              "      <td>7</td>\n",
              "      <td>8</td>\n",
              "      <td>184</td>\n",
              "      <td>127</td>\n",
              "      <td>11602</td>\n",
              "      <td>554</td>\n",
              "      <td>552</td>\n",
              "      <td>375</td>\n",
              "    </tr>\n",
              "    <tr>\n",
              "      <th>top</th>\n",
              "      <td>0.3</td>\n",
              "      <td>Ideal</td>\n",
              "      <td>G</td>\n",
              "      <td>SI1</td>\n",
              "      <td>62</td>\n",
              "      <td>56</td>\n",
              "      <td>605</td>\n",
              "      <td>4.37</td>\n",
              "      <td>4.34</td>\n",
              "      <td>2.7</td>\n",
              "    </tr>\n",
              "    <tr>\n",
              "      <th>freq</th>\n",
              "      <td>2604</td>\n",
              "      <td>21551</td>\n",
              "      <td>11292</td>\n",
              "      <td>13065</td>\n",
              "      <td>2239</td>\n",
              "      <td>9881</td>\n",
              "      <td>132</td>\n",
              "      <td>448</td>\n",
              "      <td>437</td>\n",
              "      <td>767</td>\n",
              "    </tr>\n",
              "  </tbody>\n",
              "</table>\n",
              "</div>"
            ],
            "text/plain": [
              "        carat    cut  color clarity  depth  table  price      x      y      z\n",
              "count   53940  53940  53940   53940  53940  53940  53940  53940  53940  53940\n",
              "unique    273      5      7       8    184    127  11602    554    552    375\n",
              "top       0.3  Ideal      G     SI1     62     56    605   4.37   4.34    2.7\n",
              "freq     2604  21551  11292   13065   2239   9881    132    448    437    767"
            ]
          },
          "metadata": {
            "tags": []
          },
          "execution_count": 37
        }
      ]
    },
    {
      "cell_type": "code",
      "metadata": {
        "colab": {
          "base_uri": "https://localhost:8080/",
          "height": 195
        },
        "id": "UVUuqKFDppdc",
        "outputId": "316e294c-887c-4d91-b2f6-bd5f61a33694"
      },
      "source": [
        "data.head()"
      ],
      "execution_count": null,
      "outputs": [
        {
          "output_type": "execute_result",
          "data": {
            "text/html": [
              "<div>\n",
              "<style scoped>\n",
              "    .dataframe tbody tr th:only-of-type {\n",
              "        vertical-align: middle;\n",
              "    }\n",
              "\n",
              "    .dataframe tbody tr th {\n",
              "        vertical-align: top;\n",
              "    }\n",
              "\n",
              "    .dataframe thead th {\n",
              "        text-align: right;\n",
              "    }\n",
              "</style>\n",
              "<table border=\"1\" class=\"dataframe\">\n",
              "  <thead>\n",
              "    <tr style=\"text-align: right;\">\n",
              "      <th></th>\n",
              "      <th>carat</th>\n",
              "      <th>cut</th>\n",
              "      <th>color</th>\n",
              "      <th>clarity</th>\n",
              "      <th>depth</th>\n",
              "      <th>table</th>\n",
              "      <th>price</th>\n",
              "      <th>x</th>\n",
              "      <th>y</th>\n",
              "      <th>z</th>\n",
              "    </tr>\n",
              "  </thead>\n",
              "  <tbody>\n",
              "    <tr>\n",
              "      <th>1</th>\n",
              "      <td>0.23</td>\n",
              "      <td>Ideal</td>\n",
              "      <td>E</td>\n",
              "      <td>SI2</td>\n",
              "      <td>61.5</td>\n",
              "      <td>55</td>\n",
              "      <td>326</td>\n",
              "      <td>3.95</td>\n",
              "      <td>3.98</td>\n",
              "      <td>2.43</td>\n",
              "    </tr>\n",
              "    <tr>\n",
              "      <th>2</th>\n",
              "      <td>0.21</td>\n",
              "      <td>Premium</td>\n",
              "      <td>E</td>\n",
              "      <td>SI1</td>\n",
              "      <td>59.8</td>\n",
              "      <td>61</td>\n",
              "      <td>326</td>\n",
              "      <td>3.89</td>\n",
              "      <td>3.84</td>\n",
              "      <td>2.31</td>\n",
              "    </tr>\n",
              "    <tr>\n",
              "      <th>3</th>\n",
              "      <td>0.23</td>\n",
              "      <td>Good</td>\n",
              "      <td>E</td>\n",
              "      <td>VS1</td>\n",
              "      <td>56.9</td>\n",
              "      <td>65</td>\n",
              "      <td>327</td>\n",
              "      <td>4.05</td>\n",
              "      <td>4.07</td>\n",
              "      <td>2.31</td>\n",
              "    </tr>\n",
              "    <tr>\n",
              "      <th>4</th>\n",
              "      <td>0.29</td>\n",
              "      <td>Premium</td>\n",
              "      <td>I</td>\n",
              "      <td>VS2</td>\n",
              "      <td>62.4</td>\n",
              "      <td>58</td>\n",
              "      <td>334</td>\n",
              "      <td>4.2</td>\n",
              "      <td>4.23</td>\n",
              "      <td>2.63</td>\n",
              "    </tr>\n",
              "    <tr>\n",
              "      <th>5</th>\n",
              "      <td>0.31</td>\n",
              "      <td>Good</td>\n",
              "      <td>J</td>\n",
              "      <td>SI2</td>\n",
              "      <td>63.3</td>\n",
              "      <td>58</td>\n",
              "      <td>335</td>\n",
              "      <td>4.34</td>\n",
              "      <td>4.35</td>\n",
              "      <td>2.75</td>\n",
              "    </tr>\n",
              "  </tbody>\n",
              "</table>\n",
              "</div>"
            ],
            "text/plain": [
              "  carat      cut color clarity depth table price     x     y     z\n",
              "1  0.23    Ideal     E     SI2  61.5    55   326  3.95  3.98  2.43\n",
              "2  0.21  Premium     E     SI1  59.8    61   326  3.89  3.84  2.31\n",
              "3  0.23     Good     E     VS1  56.9    65   327  4.05  4.07  2.31\n",
              "4  0.29  Premium     I     VS2  62.4    58   334   4.2  4.23  2.63\n",
              "5  0.31     Good     J     SI2  63.3    58   335  4.34  4.35  2.75"
            ]
          },
          "metadata": {
            "tags": []
          },
          "execution_count": 38
        }
      ]
    },
    {
      "cell_type": "markdown",
      "metadata": {
        "id": "p64BQ-W3zpkM"
      },
      "source": [
        "\n",
        "\n",
        "```\n",
        "# This is formatted as code\n",
        "```\n",
        "\n",
        "**KNN Regression [Diamond Price Prediction Dataset]**"
      ]
    },
    {
      "cell_type": "markdown",
      "metadata": {
        "id": "pi5z3DDg04cc"
      },
      "source": [
        "1. a) Build a knn regression algorithm [using only python from scratch] to predict the price of diamonds."
      ]
    },
    {
      "cell_type": "code",
      "metadata": {
        "id": "UPcRGwhbvOxk"
      },
      "source": [
        "# Preprocessing and encoding of categorical values \n",
        "\n",
        "# the follwoing label encoding is referred from sklearn documentation of preprocessing\n",
        "# some of the code is referred from `https://stackoverflow.com/questions/45983972/labelencoder-wont-store-parameters`\n",
        "\n",
        "encode=preprocessing.LabelEncoder()\n",
        "\n",
        "encode.fit_transform(data['cut'])\n",
        "keys = encode.classes_\n",
        "values = encode.transform(encode.classes_)\n",
        "cut_dict = dict(zip(keys, values))\n",
        "data['cut'] = data['cut'].map(cut_dict)\n",
        "\n",
        "encode1=preprocessing.LabelEncoder()\n",
        "\n",
        "encode1.fit_transform(data['clarity'])\n",
        "keys = encode1.classes_\n",
        "values = encode1.transform(encode1.classes_)\n",
        "clarity_dict = dict(zip(keys, values))\n",
        "data['clarity'] = data['clarity'].map(clarity_dict)\n",
        "\n",
        "color_dict = {'D':7, 'E':6, 'F':5, 'G':4, 'H':3, 'I':2, 'J':1}\n",
        "data['color'] = data['color'].map(color_dict)\n",
        "\n",
        "\n",
        "\n"
      ],
      "execution_count": null,
      "outputs": []
    },
    {
      "cell_type": "code",
      "metadata": {
        "colab": {
          "base_uri": "https://localhost:8080/",
          "height": 215
        },
        "id": "cEs-ky2u8szr",
        "outputId": "206c2342-8b7c-4739-fc8e-f125abd6c541"
      },
      "source": [
        "# some of the procedure for train validity and cross is referred  from the following site\n",
        "#https://www.journaldev.com/45109/normalize-data-in-python\n",
        "\n",
        "data=sklearn.utils.shuffle(data, random_state = 0)\n",
        "\n",
        "scaler=preprocessing.MinMaxScaler()\n",
        "\n",
        "names=data.columns\n",
        "\n",
        "d=scaler.fit_transform(data)\n",
        "\n",
        "scaled_df=pd.DataFrame(d,columns=names)\n",
        "\n",
        "scaled_df.head()\n",
        "\n"
      ],
      "execution_count": null,
      "outputs": [
        {
          "output_type": "execute_result",
          "data": {
            "text/html": [
              "<div>\n",
              "<style scoped>\n",
              "    .dataframe tbody tr th:only-of-type {\n",
              "        vertical-align: middle;\n",
              "    }\n",
              "\n",
              "    .dataframe tbody tr th {\n",
              "        vertical-align: top;\n",
              "    }\n",
              "\n",
              "    .dataframe thead th {\n",
              "        text-align: right;\n",
              "    }\n",
              "</style>\n",
              "<table border=\"1\" class=\"dataframe\">\n",
              "  <thead>\n",
              "    <tr style=\"text-align: right;\">\n",
              "      <th></th>\n",
              "      <th>carat</th>\n",
              "      <th>cut</th>\n",
              "      <th>color</th>\n",
              "      <th>clarity</th>\n",
              "      <th>depth</th>\n",
              "      <th>table</th>\n",
              "      <th>price</th>\n",
              "      <th>x</th>\n",
              "      <th>y</th>\n",
              "      <th>z</th>\n",
              "    </tr>\n",
              "  </thead>\n",
              "  <tbody>\n",
              "    <tr>\n",
              "      <th>0</th>\n",
              "      <td>0.187110</td>\n",
              "      <td>0.50</td>\n",
              "      <td>0.333333</td>\n",
              "      <td>0.428571</td>\n",
              "      <td>0.527778</td>\n",
              "      <td>0.230769</td>\n",
              "      <td>0.238255</td>\n",
              "      <td>0.615456</td>\n",
              "      <td>0.112903</td>\n",
              "      <td>0.129245</td>\n",
              "    </tr>\n",
              "    <tr>\n",
              "      <th>1</th>\n",
              "      <td>0.226611</td>\n",
              "      <td>0.50</td>\n",
              "      <td>0.333333</td>\n",
              "      <td>0.285714</td>\n",
              "      <td>0.544444</td>\n",
              "      <td>0.250000</td>\n",
              "      <td>0.329675</td>\n",
              "      <td>0.648045</td>\n",
              "      <td>0.117657</td>\n",
              "      <td>0.136792</td>\n",
              "    </tr>\n",
              "    <tr>\n",
              "      <th>2</th>\n",
              "      <td>0.207900</td>\n",
              "      <td>0.75</td>\n",
              "      <td>0.166667</td>\n",
              "      <td>0.285714</td>\n",
              "      <td>0.502778</td>\n",
              "      <td>0.288462</td>\n",
              "      <td>0.280262</td>\n",
              "      <td>0.640596</td>\n",
              "      <td>0.115450</td>\n",
              "      <td>0.131447</td>\n",
              "    </tr>\n",
              "    <tr>\n",
              "      <th>3</th>\n",
              "      <td>0.270270</td>\n",
              "      <td>0.50</td>\n",
              "      <td>0.666667</td>\n",
              "      <td>0.285714</td>\n",
              "      <td>0.497222</td>\n",
              "      <td>0.250000</td>\n",
              "      <td>0.456506</td>\n",
              "      <td>0.691806</td>\n",
              "      <td>0.124958</td>\n",
              "      <td>0.141509</td>\n",
              "    </tr>\n",
              "    <tr>\n",
              "      <th>4</th>\n",
              "      <td>0.145530</td>\n",
              "      <td>1.00</td>\n",
              "      <td>0.666667</td>\n",
              "      <td>0.714286</td>\n",
              "      <td>0.519444</td>\n",
              "      <td>0.269231</td>\n",
              "      <td>0.225280</td>\n",
              "      <td>0.574488</td>\n",
              "      <td>0.105433</td>\n",
              "      <td>0.120126</td>\n",
              "    </tr>\n",
              "  </tbody>\n",
              "</table>\n",
              "</div>"
            ],
            "text/plain": [
              "      carat   cut     color   clarity  ...     price         x         y         z\n",
              "0  0.187110  0.50  0.333333  0.428571  ...  0.238255  0.615456  0.112903  0.129245\n",
              "1  0.226611  0.50  0.333333  0.285714  ...  0.329675  0.648045  0.117657  0.136792\n",
              "2  0.207900  0.75  0.166667  0.285714  ...  0.280262  0.640596  0.115450  0.131447\n",
              "3  0.270270  0.50  0.666667  0.285714  ...  0.456506  0.691806  0.124958  0.141509\n",
              "4  0.145530  1.00  0.666667  0.714286  ...  0.225280  0.574488  0.105433  0.120126\n",
              "\n",
              "[5 rows x 10 columns]"
            ]
          },
          "metadata": {
            "tags": []
          },
          "execution_count": 40
        }
      ]
    },
    {
      "cell_type": "code",
      "metadata": {
        "id": "aKhjKvC1eDxj"
      },
      "source": [
        "X=scaled_df.drop(['price'], axis = 1).values   # getting the predicatble column price \n",
        "\n",
        "Y=scaled_df['price'].values\n",
        "\n",
        "train=X[:-1000]\n",
        "\n",
        "validate=X[-1000:]\n",
        "\n",
        "train_Y=Y[:-1000]\n",
        "\n",
        "validate_Y=Y[-1000:]\n",
        "\n",
        "\n",
        "#train, validate, test = np.split(X, [int(.6*len(scaled_df)), int(.8*len(scaled_df))])\n",
        "\n",
        "#train_Y, validate_Y, test_Y = np.split(Y, [int(.6*len(scaled_df)), int(.8*len(scaled_df))])\n",
        "\n",
        "#print(train)\n"
      ],
      "execution_count": null,
      "outputs": []
    },
    {
      "cell_type": "code",
      "metadata": {
        "id": "2aI7q_Jjg7xj"
      },
      "source": [
        "XL=X\n",
        "YL=Y"
      ],
      "execution_count": null,
      "outputs": []
    },
    {
      "cell_type": "code",
      "metadata": {
        "id": "8kcAcD2T3Hsh"
      },
      "source": [
        "# code for knn regression\n",
        "# run for different k's and store the pred of all the k's and find the mean squared error or MAE \n",
        "# some of the code is referred from https://machinelearningmastery.com/distance-measures-for-machine-learning/\n",
        "\n",
        "class KnnRegressor():\n",
        "\n",
        "    def __init__(self,neighbors_k=5,metric='euclidean'):\n",
        "\n",
        "      self.neighbors_k=neighbors_k\n",
        "      self.metric=metric\n",
        "\n",
        "    def calculate_distance(self,row1,row2):\n",
        "\n",
        "\n",
        "      if self.metric==\"euclidean\":\n",
        "        return sqrt(sum((element1-element2)**2 for element1,element2 in zip(row1,row2)))\n",
        "\n",
        "      \n",
        "      if self.metric==\"manhatten\":\n",
        "        return sum(abs(element1-element2) for element1,element2 in zip(row1,row2))\n",
        "\n",
        "    def calculate_mean(self,ind,target):\n",
        "\n",
        "      \n",
        "      temp=[]\n",
        "      for i in ind:\n",
        "\n",
        "        temp.append(target[i])\n",
        "    \n",
        "      values=np.array(temp)\n",
        " \n",
        "      return np.mean(values)\n",
        "\n",
        "\n",
        "    ### need to implement hamming I could not understand how to implement hamming\n",
        "\n",
        "    def predict(self,train,test,target):\n",
        "      \n",
        "      Y=[]\n",
        "      \n",
        "      for p in test:\n",
        "        temp=[]\n",
        "        for q in train:\n",
        "          temp.append(self.calculate_distance(p,q))\n",
        "        distances_array=np.array(temp)\n",
        "\n",
        "      \n",
        "        # now we need to sort and pick the top k\n",
        "        k=self.neighbors_k\n",
        "        ind=np.argsort(distances_array)[:k]\n",
        "        \n",
        "      \n",
        "        pred_i=self.calculate_mean(ind,target)\n",
        "        Y.append(pred_i)\n",
        "\n",
        "      Y_pred=np.array(Y)\n",
        "      \n",
        "      return Y_pred\n"
      ],
      "execution_count": null,
      "outputs": []
    },
    {
      "cell_type": "code",
      "metadata": {
        "id": "-CkAjoeLu7d-"
      },
      "source": [
        "def MSE(Y_pred,Y_known):\n",
        "  return sum(abs(e1-e2)**2 for e1,e2 in zip(Y_pred,Y_known))/len(Y_known)\n",
        "\n",
        "def MAE(Y_pred,Y_known):\n",
        "  return sum(abs(e1-e2) for e1,e2 in zip(Y_pred,Y_known))/len(Y_known)\n",
        "\n",
        "def R_squared(Y_pred,Y_known):  # co efficient of determination\n",
        "  mean_value_known= np.mean(Y_known)\n",
        "  #print(\"Mean_vlaue==============\"+str(mean_value_known))\n",
        "  SS_tot=sum(abs(e1-mean_value_known)**2 for e1 in Y_known)\n",
        "  #print(\"SS_tot==============\"+str(SS_tot))\n",
        "  SS_res=sum(abs(e1-e2)**2 for e1,e2 in zip(Y_pred,Y_known))\n",
        "  #print(\"SS_res==============\"+str(SS_res))\n",
        "  r_2=(1-(SS_res/SS_tot))\n",
        "  return r_2\n",
        "'''\n",
        "def R_squared(y_pred,y_true):\n",
        "  SS_res=((y_true - y_pred) ** 2).sum(axis=0,dtype=np.float64)\n",
        "  SS_tot=((y_true - np.average(y_true, axis=0)) ** 2).sum(axis=0,dtype=np.float64)\n",
        "\n",
        "  return (1-(SS_res/SS_tot))\n",
        "'''\n",
        "def RMSE(Y_pred,Y_known):\n",
        "  return sqrt(sum(abs(e1-e2)**2 for e1,e2 in zip(Y_pred,Y_known))/len(Y_known))\n",
        "\n",
        "\n",
        "def plot_performance(neighbors,cv_accuracy):\n",
        "\n",
        "  #---------------------------------------------------------------------------------------\n",
        "  #https://www.kaggle.com/amolbhivarkar/knn-for-classification-using-scikit-learn\n",
        "  #Generate plot\n",
        "  #---------------------------------------------------------------------------------------\n",
        "  plt.title('k-NN Varying number of neighbors')\n",
        "  plt.plot(neighbors,cv_accuracy, label='validation AUC')\n",
        "  plt.legend()\n",
        "  plt.xlabel('Hyper parameter')\n",
        "  plt.ylabel('R2_values')\n",
        "  plt.show()\n",
        "\n"
      ],
      "execution_count": null,
      "outputs": []
    },
    {
      "cell_type": "markdown",
      "metadata": {
        "id": "rdhlOuB_0xGr"
      },
      "source": [
        "1. b) Do we need to normalise data? [If so Does it make any difference?].\n"
      ]
    },
    {
      "cell_type": "code",
      "metadata": {
        "colab": {
          "base_uri": "https://localhost:8080/",
          "height": 136
        },
        "id": "0i3Q6iXF3IMj",
        "outputId": "8985e587-89ef-4b65-fa1f-7cff3a567614"
      },
      "source": [
        "# give proper explanation\n",
        "'''Yes we need normalisation.When we observe the values in the dataset the carat values \n",
        "are less than 1 like 0.23,0.22 etc., and the price values are very large compared to other\n",
        "ns. Since Knn is a distance based algorithm, when we find the euclidean/manhatten distance \n",
        "um values are predominantly determined by the price and other such features with large\n",
        "values and the classication and regression becomes difficult since everything will be\n",
        "near in that case. So to bring everything to fairness It is better to normalise each \n",
        "feature.'''"
      ],
      "execution_count": null,
      "outputs": [
        {
          "output_type": "execute_result",
          "data": {
            "application/vnd.google.colaboratory.intrinsic+json": {
              "type": "string"
            },
            "text/plain": [
              "'Yes we need normalisation.When we observe the values in the dataset the carat values \\nare less than 1 like 0.23,0.22 etc., and the price values are very large compared to other\\nns. Since Knn is a distance based algorithm, when we find the euclidean/manhatten distance \\num values are predominantly determined by the price and other such features with large\\nvalues and the classication and regression becomes difficult since everything will be\\nnear in that case. So to bring everything to fairness It is better to normalise each \\nfeature.'"
            ]
          },
          "metadata": {
            "tags": []
          },
          "execution_count": 45
        }
      ]
    },
    {
      "cell_type": "markdown",
      "metadata": {
        "id": "E5bPcmCj0xCn"
      },
      "source": [
        "2. Experiment with different distance measures[Euclidean distance, Manhattan distance, Hamming Distance] to handle categorical attributes."
      ]
    },
    {
      "cell_type": "code",
      "metadata": {
        "id": "JVFgXFJM3I0m"
      },
      "source": [
        "# show all the experiments\n",
        "\n",
        "myList = list(range(0,12))\n",
        "neighbors = list(filter(lambda x: x % 2 != 0, myList))\n",
        "neighbors.append(16)\n",
        "\n",
        "\n",
        "knn=KnnRegressor(5,'manhatten')\n",
        "\n",
        "pred_y=knn.predict(train,validate,train_Y)\n",
        "\n",
        "# minkowski when p=1 (manhatten distance)\n",
        "MAE_p1=MAE(pred_y,validate_Y)\n",
        "MSE_p1=MSE(pred_y,validate_Y)\n",
        "r2_p1=R_squared(pred_y,validate_Y)\n",
        "\n",
        "# minkowski when p=2 (euclidean distance)\n",
        "knn=KnnRegressor(5,'euclidean')\n",
        "pred_y=knn.predict(train,validate,train_Y)\n",
        "MAE_p2=MAE(pred_y,validate_Y)\n",
        "MSE_p2=MSE(pred_y,validate_Y)\n",
        "\n",
        "r2_p2=R_squared(pred_y,validate_Y)\n"
      ],
      "execution_count": null,
      "outputs": []
    },
    {
      "cell_type": "markdown",
      "metadata": {
        "id": "Lu322LBR3xx3"
      },
      "source": [
        "I did not experiment with hamming distance. I don't fee it useful in this context."
      ]
    },
    {
      "cell_type": "markdown",
      "metadata": {
        "id": "O64G_tqG0w_l"
      },
      "source": [
        "3. Report Mean Squared Error(MSE), Mean-Absolute-Error(MAE), R-squared (R2) score in a tabular form."
      ]
    },
    {
      "cell_type": "code",
      "metadata": {
        "colab": {
          "base_uri": "https://localhost:8080/"
        },
        "id": "1WGPbWa-3JY7",
        "outputId": "35ad9c19-499f-4e3f-a066-c385c44a6e7e"
      },
      "source": [
        "# report a table\n",
        "\n",
        "# Reference: https://zetcode.com/python/prettytable/#:~:text=PrettyTable%20is%20a%20Python%20library,in%20the%20PostgreSQL%20shell%20psql.&text=PrettyTable%20can%20read%20data%20from,data%20in%20ASCII%20or%20HTML.\n",
        "x = PrettyTable()\n",
        "print(\"For k=5\")\n",
        "x.field_names = [\"distance\",\"MSE\", \"MAE\", \"R2\"]\n",
        "x.add_row([\"manhatten\",MSE_p1,MAE_p1,r2_p1])\n",
        "x.add_row([\"euclidean\",MSE_p2,MAE_p2,r2_p2])\n",
        "\n",
        "print(x)\n"
      ],
      "execution_count": null,
      "outputs": [
        {
          "output_type": "stream",
          "text": [
            "For k=5\n",
            "+-----------+-----------------------+----------------------+--------------------+\n",
            "|  distance |          MSE          |         MAE          |         R2         |\n",
            "+-----------+-----------------------+----------------------+--------------------+\n",
            "| manhatten | 0.0014837275598702643 | 0.019890749851327244 | 0.9712423807503101 |\n",
            "| euclidean |  0.001626816793521492 | 0.021325998810617967 | 0.9684690240968611 |\n",
            "+-----------+-----------------------+----------------------+--------------------+\n"
          ],
          "name": "stdout"
        }
      ]
    },
    {
      "cell_type": "markdown",
      "metadata": {
        "id": "MA2kN7dL0wjE"
      },
      "source": [
        "4.  a) Choose different K values (k=2,3,5,7,11,16) and experiment. Plot a graph showing R2 score vs k."
      ]
    },
    {
      "cell_type": "code",
      "metadata": {
        "colab": {
          "base_uri": "https://localhost:8080/",
          "height": 295
        },
        "id": "Z3VSKWrU3KBT",
        "outputId": "12341cba-c7ef-489d-abda-09710f1d7630"
      },
      "source": [
        "# plot\n",
        "\n",
        "MAE_CV_accuracy=np.empty(len(neighbors))\n",
        "MSE_CV_accuracy=np.empty(len(neighbors))\n",
        "r_2_CV_accuracy = np.empty(len(neighbors))\n",
        "\n",
        "for i,k in enumerate(neighbors):\n",
        "\n",
        "  knn=KnnRegressor(k,'euclidean')\n",
        "\n",
        "  pred_y=knn.predict(train,validate,train_Y)\n",
        "\n",
        "  #MAE_CV_accuracy.append(MAE(pred_y,validate_Y)\n",
        "  #MSE_CV_accuracy.append(MSE(pred_y,validate_Y)\n",
        "\n",
        "  r_2_CV_accuracy[i]=R_squared(pred_y,validate_Y)\n",
        "\n",
        "  #print(r_2_CV_accuracy)\n",
        "\n",
        "plot_performance(neighbors,np.array(r_2_CV_accuracy))"
      ],
      "execution_count": null,
      "outputs": [
        {
          "output_type": "display_data",
          "data": {
            "image/png": "[encoded data removed]",
            "text/plain": [
              "<Figure size 432x288 with 1 Axes>"
            ]
          },
          "metadata": {
            "tags": [],
            "needs_background": "light"
          }
        }
      ]
    },
    {
      "cell_type": "code",
      "metadata": {
        "id": "FAkAeiq_AHcu"
      },
      "source": [
        "k=5\n",
        "knn=KnnRegressor(k,'euclidean')\n",
        "pred_y_knn=knn.predict(train,validate,train_Y)"
      ],
      "execution_count": null,
      "outputs": []
    },
    {
      "cell_type": "markdown",
      "metadata": {
        "id": "xgkHg7QL1mzy"
      },
      "source": [
        "4. b) Are the R-squared scores the same? Why / Why not? How do we identify the best K? Suggest a computational procedure, with a logical explanation."
      ]
    },
    {
      "cell_type": "code",
      "metadata": {
        "colab": {
          "base_uri": "https://localhost:8080/",
          "height": 136
        },
        "id": "XmFoYY0q3Kyk",
        "outputId": "41109e3d-92f4-4bd3-bd27-01da59140eac"
      },
      "source": [
        "# Explanation:\n",
        "'''R-squared errors are not same as k increases R-squared value also increases and\n",
        "later as k crosses certain values the r-squared value also declines indicating \n",
        "that the performance is degenerating. Usually when error is employed as a measure\n",
        "we chose the minima point as k( The k value for which error is less). \n",
        "In our above case since we employed R1_squared as the score. \n",
        "So, we choose the k at which score is maximum i.e wither 5 or 7 in our case. We should \n",
        "pick k such that it is odd and it is less than the value sqrt(n)'''"
      ],
      "execution_count": null,
      "outputs": [
        {
          "output_type": "execute_result",
          "data": {
            "application/vnd.google.colaboratory.intrinsic+json": {
              "type": "string"
            },
            "text/plain": [
              "'R-squared errors are not same as k increases R-squared value also increases and\\nlater as k crosses certain values the r-squared value also declines indicating \\nthat the performance is degenerating. Usually when error is employed as a measure\\nwe chose the minima point as k( The k value for which error is less). \\nIn our above case since we employed R1_squared as the score. \\nSo, we choose the k at which score is maximum i.e wither 5 or 7 in our case. We should \\npick k such that it is odd and it is less than the value sqrt(n)'"
            ]
          },
          "metadata": {
            "tags": []
          },
          "execution_count": 51
        }
      ]
    },
    {
      "cell_type": "markdown",
      "metadata": {
        "id": "Psho4dHI1wXb"
      },
      "source": [
        "5. a) Also, report the performance of scikit-learn’s kNN regression algorithm.  "
      ]
    },
    {
      "cell_type": "code",
      "metadata": {
        "colab": {
          "base_uri": "https://localhost:8080/",
          "height": 295
        },
        "id": "XmBOqvrm3Lkf",
        "outputId": "34fcece3-3159-40cc-f6d2-19bd307bd83d"
      },
      "source": [
        "# scikit-learn KNN Regressor\n",
        "# Reference : https://scikit-learn.org/stable/modules/generated/sklearn.neighbors.KNeighborsRegressor.html\n",
        "cv_accuracy=np.empty(len(neighbors))\n",
        "\n",
        "for i,k in enumerate(neighbors):\n",
        "\n",
        "  knn = KNeighborsRegressor(n_neighbors=k,p=2)\n",
        "\n",
        "  # fitting the model on crossvalidation train\n",
        "  knn.fit(train, train_Y)\n",
        "  #Compute accuracy on the training set\n",
        "  pred = knn.predict(validate)\n",
        "  cv_accuracy[i] = knn.score(validate, validate_Y)\n",
        "\n",
        "\n",
        "plot_performance(neighbors,np.array(cv_accuracy))"
      ],
      "execution_count": null,
      "outputs": [
        {
          "output_type": "display_data",
          "data": {
            "image/png": "[encoded data removed]",
            "text/plain": [
              "<Figure size 432x288 with 1 Axes>"
            ]
          },
          "metadata": {
            "tags": [],
            "needs_background": "light"
          }
        }
      ]
    },
    {
      "cell_type": "markdown",
      "metadata": {
        "id": "R7ZzdSUu2Iez"
      },
      "source": [
        "5. b) Compare it with the algorithm you built. [ you can use complexities, R2 score etc..]"
      ]
    },
    {
      "cell_type": "code",
      "metadata": {
        "colab": {
          "base_uri": "https://localhost:8080/",
          "height": 35
        },
        "id": "hmi9rZDF3MNB",
        "outputId": "a39d0c95-3d0d-4185-aad5-347aefa56458"
      },
      "source": [
        "# Comparison\n",
        "'''From the above two graphs we can conclude that r2-squared scores are very similar.\n",
        "Complexities and the running time is also similar to that of sklearns algorithm'''\n"
      ],
      "execution_count": null,
      "outputs": [
        {
          "output_type": "execute_result",
          "data": {
            "application/vnd.google.colaboratory.intrinsic+json": {
              "type": "string"
            },
            "text/plain": [
              "'From the above two graphs we can conclude that r2-squared scores are very similar.\\nComplexities and the running time is also similar to that of sklearns algorithm'"
            ]
          },
          "metadata": {
            "tags": []
          },
          "execution_count": 1
        }
      ]
    },
    {
      "cell_type": "markdown",
      "metadata": {
        "id": "Xa-vbZfY2OFO"
      },
      "source": [
        "6. From the above experiments, what do you think are advantages and disadvantages of the knn regression algorithm?\n"
      ]
    },
    {
      "cell_type": "code",
      "metadata": {
        "colab": {
          "base_uri": "https://localhost:8080/",
          "height": 153
        },
        "id": "hDCRj4H93Mu8",
        "outputId": "67447257-4778-4273-eac5-a6147e1ccd65"
      },
      "source": [
        "# report this  along with the experiments\n",
        "\n",
        "'''\n",
        "Advantages:\n",
        "1)Knn does not require any training. It justs stores the training data \n",
        "2)We can new add new data as in required.\n",
        "3)It is simple and very easy to understand and implement.\n",
        "4)We can employ any accuracy measuring scheme it works well with all of them.\n",
        "\n",
        "Disadvantages:\n",
        "1)It is computationally time taking.\n",
        "2)We need to normalise the data before applying the algorithm other wise the results will \n",
        "unexpected.\n",
        "3)It is sensitive to noisy data or outliers. consider if the k value is small and it\n",
        " is surrounded by noisy data then it's classification will be erroneous.\n",
        "'''\n"
      ],
      "execution_count": null,
      "outputs": [
        {
          "output_type": "execute_result",
          "data": {
            "application/vnd.google.colaboratory.intrinsic+json": {
              "type": "string"
            },
            "text/plain": [
              "\"\\nAdvantages:\\n1)Knn does not require any training. It justs stores the training data \\n2)We can new add new data as in required.\\n3)It is simple and very easy to understand and implement.\\n4)We can employ any accuracy measuring scheme it works well with all of them.\\n\\nDisadvantages:\\n1)It is computationally time taking.\\n2)We need to normalise the data before applying the algorithm other wise the results will \\nunexpected.\\n3)It is sensitive to noisy data or outliers. consider if the k value is small and it\\n is surrounded by noisy data then it's classification will be erroneous.\\n\""
            ]
          },
          "metadata": {
            "tags": []
          },
          "execution_count": 54
        }
      ]
    },
    {
      "cell_type": "markdown",
      "metadata": {
        "id": "NlPGwmq2elOR"
      },
      "source": [
        "# **2)** **Linear Regression**\n",
        "\n",
        "Dataset - same as above (Diamond Price Detection)\n"
      ]
    },
    {
      "cell_type": "code",
      "metadata": {
        "id": "MUQXd9I5lAA8"
      },
      "source": [
        "# Import necessary statements \n",
        "from sklearn import preprocessing\n",
        "import sklearn\n",
        "import random\n",
        "from numpy.random import permutation\n",
        "import pandas as pd\n",
        "import numpy as np \n",
        "from math import sqrt \n",
        "from prettytable import PrettyTable\n",
        "import matplotlib.pyplot as plt\n",
        "import seaborn as sn\n",
        "from sklearn.neighbors import KNeighborsRegressor\n",
        "from sklearn.model_selection import train_test_split\n",
        "import math\n",
        "from scipy.stats import pearsonr\n",
        "from sklearn.linear_model import LinearRegression\n",
        "%matplotlib inline\n"
      ],
      "execution_count": 11,
      "outputs": []
    },
    {
      "cell_type": "code",
      "metadata": {
        "colab": {
          "base_uri": "https://localhost:8080/",
          "height": 173
        },
        "id": "N6Fk8rnh-Ns7",
        "outputId": "b37f2187-64c6-4b26-bfa6-affa489cc9e7"
      },
      "source": [
        "headers = [\"carat\",\t\"cut\",\"color\",\"clarity\",\"depth\",\"table\",\"price\",\"x\",\"y\",\"z\"]\n",
        "data = pd.read_csv('/content/sample_data/diamonds.csv', na_values='?',    \n",
        "         header=None,  names = headers) \n",
        "data = data.reset_index(drop=True)\n",
        "data = data.iloc[1:]\n",
        "regression_data=data\n",
        "#data = data[:200]\n",
        "data.describe()\n",
        "#print(data) "
      ],
      "execution_count": 12,
      "outputs": [
        {
          "output_type": "execute_result",
          "data": {
            "text/html": [
              "<div>\n",
              "<style scoped>\n",
              "    .dataframe tbody tr th:only-of-type {\n",
              "        vertical-align: middle;\n",
              "    }\n",
              "\n",
              "    .dataframe tbody tr th {\n",
              "        vertical-align: top;\n",
              "    }\n",
              "\n",
              "    .dataframe thead th {\n",
              "        text-align: right;\n",
              "    }\n",
              "</style>\n",
              "<table border=\"1\" class=\"dataframe\">\n",
              "  <thead>\n",
              "    <tr style=\"text-align: right;\">\n",
              "      <th></th>\n",
              "      <th>carat</th>\n",
              "      <th>cut</th>\n",
              "      <th>color</th>\n",
              "      <th>clarity</th>\n",
              "      <th>depth</th>\n",
              "      <th>table</th>\n",
              "      <th>price</th>\n",
              "      <th>x</th>\n",
              "      <th>y</th>\n",
              "      <th>z</th>\n",
              "    </tr>\n",
              "  </thead>\n",
              "  <tbody>\n",
              "    <tr>\n",
              "      <th>count</th>\n",
              "      <td>53940</td>\n",
              "      <td>53940</td>\n",
              "      <td>53940</td>\n",
              "      <td>53940</td>\n",
              "      <td>53940</td>\n",
              "      <td>53940</td>\n",
              "      <td>53940</td>\n",
              "      <td>53940</td>\n",
              "      <td>53940</td>\n",
              "      <td>53940</td>\n",
              "    </tr>\n",
              "    <tr>\n",
              "      <th>unique</th>\n",
              "      <td>273</td>\n",
              "      <td>5</td>\n",
              "      <td>7</td>\n",
              "      <td>8</td>\n",
              "      <td>184</td>\n",
              "      <td>127</td>\n",
              "      <td>11602</td>\n",
              "      <td>554</td>\n",
              "      <td>552</td>\n",
              "      <td>375</td>\n",
              "    </tr>\n",
              "    <tr>\n",
              "      <th>top</th>\n",
              "      <td>0.3</td>\n",
              "      <td>Ideal</td>\n",
              "      <td>G</td>\n",
              "      <td>SI1</td>\n",
              "      <td>62</td>\n",
              "      <td>56</td>\n",
              "      <td>605</td>\n",
              "      <td>4.37</td>\n",
              "      <td>4.34</td>\n",
              "      <td>2.7</td>\n",
              "    </tr>\n",
              "    <tr>\n",
              "      <th>freq</th>\n",
              "      <td>2604</td>\n",
              "      <td>21551</td>\n",
              "      <td>11292</td>\n",
              "      <td>13065</td>\n",
              "      <td>2239</td>\n",
              "      <td>9881</td>\n",
              "      <td>132</td>\n",
              "      <td>448</td>\n",
              "      <td>437</td>\n",
              "      <td>767</td>\n",
              "    </tr>\n",
              "  </tbody>\n",
              "</table>\n",
              "</div>"
            ],
            "text/plain": [
              "        carat    cut  color clarity  depth  table  price      x      y      z\n",
              "count   53940  53940  53940   53940  53940  53940  53940  53940  53940  53940\n",
              "unique    273      5      7       8    184    127  11602    554    552    375\n",
              "top       0.3  Ideal      G     SI1     62     56    605   4.37   4.34    2.7\n",
              "freq     2604  21551  11292   13065   2239   9881    132    448    437    767"
            ]
          },
          "metadata": {
            "tags": []
          },
          "execution_count": 12
        }
      ]
    },
    {
      "cell_type": "code",
      "metadata": {
        "id": "Rh7E6FGW6RnL"
      },
      "source": [
        "# Preprocessing and encoding of categorical values \n",
        "\n",
        "# the follwoing label encoding is referred from sklearn documentation of preprocessing\n",
        "# some of the code is referred from `https://stackoverflow.com/questions/45983972/labelencoder-wont-store-parameters`\n",
        "\n",
        "encode=preprocessing.LabelEncoder()\n",
        "\n",
        "encode.fit_transform(data['cut'])\n",
        "keys = encode.classes_\n",
        "values = encode.transform(encode.classes_)\n",
        "cut_dict = dict(zip(keys, values))\n",
        "data['cut'] = data['cut'].map(cut_dict)\n",
        "\n",
        "encode1=preprocessing.LabelEncoder()\n",
        "\n",
        "encode1.fit_transform(data['clarity'])\n",
        "keys = encode1.classes_\n",
        "values = encode1.transform(encode1.classes_)\n",
        "clarity_dict = dict(zip(keys, values))\n",
        "data['clarity'] = data['clarity'].map(clarity_dict)\n",
        "\n",
        "color_dict = {'D':7, 'E':6, 'F':5, 'G':4, 'H':3, 'I':2, 'J':1}\n",
        "data['color'] = data['color'].map(color_dict)\n",
        "\n",
        "\n",
        "\n",
        "# some of the procedure for train validity and cross is referred  from the following site\n",
        "#https://www.journaldev.com/45109/normalize-data-in-python\n",
        "\n",
        "data=sklearn.utils.shuffle(data, random_state = 0)\n",
        "\n",
        "scaler=preprocessing.MinMaxScaler()\n",
        "\n",
        "names=data.columns\n",
        "\n",
        "d=scaler.fit_transform(data)\n",
        "\n",
        "scaled_df=pd.DataFrame(d,columns=names)\n",
        "\n",
        "scaled_df.head()\n",
        "\n",
        "\n",
        "X=scaled_df.drop(['price'], axis = 1).values   # getting the predicatble column price \n",
        "\n",
        "Y=scaled_df['price'].values\n",
        "\n",
        "train=X[:-1000]\n",
        "\n",
        "validate=X[-1000:]\n",
        "\n",
        "train_Y=Y[:-1000]\n",
        "\n",
        "validate_Y=Y[-1000:]\n",
        "\n",
        "\n",
        "#train, validate, test = np.split(X, [int(.6*len(scaled_df)), int(.8*len(scaled_df))])\n",
        "\n",
        "#train_Y, validate_Y, test_Y = np.split(Y, [int(.6*len(scaled_df)), int(.8*len(scaled_df))])\n",
        "\n",
        "#print(train)"
      ],
      "execution_count": 13,
      "outputs": []
    },
    {
      "cell_type": "markdown",
      "metadata": {
        "id": "DB9Co3225uTa"
      },
      "source": [
        "2a) Implement a Linear Regression model (from the scratch) taking suitable independent variables from the dataset. \n",
        "\n",
        "Report and Calculate the error obtained.\n"
      ]
    },
    {
      "cell_type": "code",
      "metadata": {
        "id": "v2bO3NEjz_Ip"
      },
      "source": [
        "def plot_performance_regression(learning_rates,mse_values):\n",
        "\n",
        "  #---------------------------------------------------------------------------------------\n",
        "  #https://www.kaggle.com/amolbhivarkar/knn-for-classification-using-scikit-learn\n",
        "  #Generate plot\n",
        "  #---------------------------------------------------------------------------------------\n",
        "  plt.title('Mean square error values based different learning rates')\n",
        "  plt.plot(learning_rates,mse_values, label='Learning rate-lambda ')\n",
        "  plt.legend()\n",
        "  plt.xlabel('HYper parameter lambda ')\n",
        "  plt.ylabel('MSE Values')\n",
        "  plt.show()\n",
        "\n",
        "\n",
        "\n",
        "def MSE(Y_pred,Y_known):\n",
        "  return sum(abs(e1-e2)**2 for e1,e2 in zip(Y_pred,Y_known))/len(Y_known)\n",
        "\n",
        "def MAE(Y_pred,Y_known):\n",
        "  return sum(abs(e1-e2) for e1,e2 in zip(Y_pred,Y_known))/len(Y_known)\n",
        "\n",
        "def R_squared(Y_pred,Y_known):  # co efficient of determination\n",
        "  mean_value_known= np.mean(Y_known)\n",
        "  #print(\"Mean_vlaue==============\"+str(mean_value_known))\n",
        "  SS_tot=sum(abs(e1-mean_value_known)**2 for e1 in Y_known)\n",
        "  #print(\"SS_tot==============\"+str(SS_tot))\n",
        "  SS_res=sum(abs(e1-e2)**2 for e1,e2 in zip(Y_pred,Y_known))\n",
        "  #print(\"SS_res==============\"+str(SS_res))\n",
        "  r_2=(1-(SS_res/SS_tot))\n",
        "  return r_2\n",
        "'''\n",
        "def R_squared(y_pred,y_true):\n",
        "  SS_res=((y_true - y_pred) ** 2).sum(axis=0,dtype=np.float64)\n",
        "  SS_tot=((y_true - np.average(y_true, axis=0)) ** 2).sum(axis=0,dtype=np.float64)\n",
        "\n",
        "  return (1-(SS_res/SS_tot))\n",
        "'''\n",
        "def RMSE(Y_pred,Y_known):\n",
        "  return sqrt(sum(abs(e1-e2)**2 for e1,e2 in zip(Y_pred,Y_known))/len(Y_known))\n"
      ],
      "execution_count": 15,
      "outputs": []
    },
    {
      "cell_type": "code",
      "metadata": {
        "id": "7n38rX_yXS1P"
      },
      "source": [
        "# Reference :https://www.kaggle.com/arpandas65/simple-sgd-implementation-of-linear-regression\n",
        "from sklearn.model_selection import train_test_split\n",
        "\n",
        "class LinearRegression():\n",
        "\n",
        "  def __init__(self,rate=0.01):\n",
        "\n",
        "    self.b = 0\n",
        "    \n",
        "    self.r=rate\n",
        "\n",
        "    self.X1=[]\n",
        "\n",
        "    self.Y1=[]\n",
        "\n",
        "    #self.w= np.random.normal(loc = 0.0 ,scale =1.0 ,size = (XL.shape[1],))\n",
        "\n",
        "  def sgd(self,sample_array,rate):\n",
        "\n",
        "    self.r=rate\n",
        "\n",
        "    grad= [] #list to store the error difference which is used for dot product\n",
        "    #K=10\n",
        "    # Taking random sample from the data set\n",
        "    \n",
        "    #print(sample_array.shape[1])\n",
        "    self.X1=sample_array[:,:X_train.shape[1]]\n",
        "    self.Y1=sample_array[:,X_train.shape[1]]\n",
        "    N=len(self.X1)\n",
        "    \n",
        "    for i in range(len(self.X1)):\n",
        "      predict = np.array(self.X1[i]).dot(self.w) + self.b\n",
        "      diff= self.Y1[i] -predict\n",
        "      grad.append(diff)    # grad contains all the differences of pred and the actual values \n",
        "    \n",
        "    grad=np.array(grad)# converting list to array for dot product implementation\n",
        "    \n",
        "    self.w = self.w - self.r*((-1/N)*np.dot(self.X1.T,grad))   # this is actually mini batch stochastic gradient \n",
        "    self.b = self.b - self.r*((-1/N)*np.sum(grad)) #  y_i=W^TX_i+b ==> b=(y_i-W^TX_i) therefore b= sum of all the errors \n",
        "    \n",
        "    #return self.w ,self.b\n",
        "\n",
        "\n",
        "  def fit(self,X_train,y_train,rate):\n",
        "    self.w= np.random.normal(loc = 0.0 ,scale =1.0 ,size = (X_train.shape[1],))  # randomly choosing the weights or slopes withscale =1 that is normalised\n",
        "    #self.w=w\n",
        "    xy=np.column_stack((X_train,y_train))\n",
        "    iterations=5000\n",
        "    K=10\n",
        "    for i in range(iterations):\n",
        "      sample_array=xy[np.random.choice(xy.shape[0], K, replace=False), :] # if we replace the K with 1 then it becomes stochastic gradient descent \n",
        "      self.sgd(sample_array,rate)\n",
        "\n",
        "    \n",
        "\n",
        "  def predict(self,test):\n",
        "\n",
        "    pred=[]\n",
        "    for i in range(test.shape[0]):\n",
        "      x = test[i]\n",
        "      #y = self.Y1[i]\n",
        "      pred.append((np.array(x.dot(self.w)) + self.b ))  #W^TX+b\n",
        "    return np.array(pred)\n",
        "\n",
        "\n",
        "  def get_coeff(self):\n",
        "    return self.w ,self.b\n",
        "\n",
        "\n"
      ],
      "execution_count": 16,
      "outputs": []
    },
    {
      "cell_type": "code",
      "metadata": {
        "id": "DjyL17ETqhSX"
      },
      "source": [
        "# Reference :https://datascience.stackexchange.com/questions/15135/train-test-validation-set-splitting-in-sklearn\n",
        "XL=X\n",
        "YL=Y\n",
        "X_train, X_test, y_train, y_test  \\\n",
        "    = train_test_split(XL, YL, test_size=0.2, random_state=1)\n",
        "\n",
        "X_train, X_val, y_train, y_val     \\\n",
        "    = train_test_split(X_train, y_train, test_size=0.25, random_state=1) # 0.25 x 0.8 = 0.2\n",
        "\n",
        "#print(X_train.shape[0])   # usually shape of [0] returns the number of tuples and the shape of[1] returns the number of the dimensions.\n",
        "\n",
        "learning_rates=list([0.01,0.001,0.1,0.02,0.3,0.03])\n",
        "\n",
        "r=0.01       # it is the learning rate \n",
        "MSE_values=[]\n",
        "\n",
        "regressor=LinearRegression()\n",
        "\n",
        "for i in learning_rates:\n",
        "  regressor.fit(X_train,y_train,r)\n",
        "#print(regressor.get_coeff())\n",
        "\n",
        "\n",
        "  y_pred=regressor.predict(X_test)\n",
        "  MSE_values.append(MSE(y_pred,y_test))\n",
        "\n",
        "\n",
        "#plot_performance_regression(np.array(learning_rates),np.array(MSE_values))\n",
        "\n"
      ],
      "execution_count": 20,
      "outputs": []
    },
    {
      "cell_type": "code",
      "metadata": {
        "colab": {
          "base_uri": "https://localhost:8080/",
          "height": 295
        },
        "id": "rQFl9ePX6363",
        "outputId": "b90f1050-c270-4062-c2e2-98c2152e3e29"
      },
      "source": [
        "plot_performance_regression(np.array(learning_rates),np.array(MSE_values))"
      ],
      "execution_count": 21,
      "outputs": [
        {
          "output_type": "display_data",
          "data": {
            "image/png": "[encoded data removed]",
            "text/plain": [
              "<Figure size 432x288 with 1 Axes>"
            ]
          },
          "metadata": {
            "tags": [],
            "needs_background": "light"
          }
        }
      ]
    },
    {
      "cell_type": "code",
      "metadata": {
        "colab": {
          "base_uri": "https://localhost:8080/"
        },
        "id": "tOB-zj_w7m7A",
        "outputId": "67103dbf-ea68-4864-98e4-8295b382a6c6"
      },
      "source": [
        "print(MSE_values)"
      ],
      "execution_count": 22,
      "outputs": [
        {
          "output_type": "stream",
          "text": [
            "[0.027249114405049246, 0.017960807141657438, 0.014403617595956292, 0.02408572495421019, 0.024525147195040967, 0.027505340176339942]\n"
          ],
          "name": "stdout"
        }
      ]
    },
    {
      "cell_type": "markdown",
      "metadata": {
        "id": "pueswpnBBwa-"
      },
      "source": [
        "clearly we can see that learning rate of 0.001 is the best for calculating the weights"
      ]
    },
    {
      "cell_type": "markdown",
      "metadata": {
        "id": "6PUfKXGU6DQ2"
      },
      "source": [
        "2b) What are the best suitable features you used to predict the price of the dataset and Why?\n",
        "\n",
        "Idea: Use Correlation to get the suitable features and Report the values accordingly."
      ]
    },
    {
      "cell_type": "code",
      "metadata": {
        "colab": {
          "base_uri": "https://localhost:8080/"
        },
        "id": "nUVKOe6d6g2u",
        "outputId": "7198757d-3e6b-4709-8c1c-08a363fc55b3"
      },
      "source": [
        "#code for Correlation between features and the Diamond Price.\n",
        "#Reference: https://analyticsindiamag.com/linear-regression-with-sklearn/\n",
        "#temporary_frame=list(regression_data.columns.values.tolist())\n",
        "\n",
        "corelation=[]\n",
        "#print(X.shape[1])\n",
        "for i in range(XL.shape[1]-1):\n",
        "  col_x=XL[:,i]\n",
        "  col_y=YL\n",
        "  corr,_=pearsonr(col_x,col_y)\n",
        "  corelation.append(corr)\n",
        "  #if corr <-0.29 or corr>0.29:\n",
        "  #  regression_data.drop(regression_data.columns[i], axis = 1, inplace = True) \n",
        "\n",
        "  \n",
        "\n",
        "drop_col=[]    # contains the indices of the columns to be dropped \n",
        "\n",
        "for i in range(len(corelation)):\n",
        "  if corelation[i]<-0.29 or corelation[i]>0.29:\n",
        "    drop_col.append(i)\n",
        "\n",
        "\n",
        "regression_data = pd.DataFrame(data=XL,index=np.array(range(1, XL.shape[0]+1)), \\\n",
        "      columns=np.array(range(1, XL.shape[1]+1))) \n",
        "\n",
        "\n",
        "regression_data.drop(regression_data.columns[drop_col], axis = 1, inplace = True) \n",
        "\n",
        "columns=list(data.columns.values.tolist())\n",
        "\n",
        "columns.remove(\"price\")\n",
        "print(columns)\n",
        "\n",
        "m=[columns[col] for col in drop_col]\n",
        "print(\" \".join(map(str,m))+ \"  are the dropped columns\")\n",
        "\n",
        "X2=regression_data.values\n",
        "\n",
        "\n",
        "\n",
        "Y2=YL\n",
        "r=0.001\n",
        "\n",
        "\n",
        "X_train, X_test, y_train, y_test  \\\n",
        "= train_test_split(X2, Y2, test_size=0.2, random_state=1)\n",
        "\n",
        "#X_train, X_val, y_train, y_val     \\\n",
        "#= train_test_split(X_train, y_train, test_size=0.25, random_state=1) # 0.25 x 0.8 = 0.2\n",
        "\n"
      ],
      "execution_count": 23,
      "outputs": [
        {
          "output_type": "stream",
          "text": [
            "['carat', 'cut', 'color', 'clarity', 'depth', 'table', 'x', 'y', 'z']\n",
            "carat x y  are the dropped columns\n"
          ],
          "name": "stdout"
        }
      ]
    },
    {
      "cell_type": "markdown",
      "metadata": {
        "id": "R0WYkiwx9p8K"
      },
      "source": [
        "###Carat, X,Y columns are highly correlated with the target variable. So, we need to drop them from the data. I took limits for correlation as -0.29 and 0.29. We use other features for implementing the linear regression"
      ]
    },
    {
      "cell_type": "code",
      "metadata": {
        "colab": {
          "base_uri": "https://localhost:8080/"
        },
        "id": "oASIsuoGfHGY",
        "outputId": "7a691c4b-606d-4a65-acee-5e7a69212beb"
      },
      "source": [
        "#w= np.random.normal(loc = 0.0 ,scale =1.0 ,size = (X.shape[1],))\n",
        "iterations=1000\n",
        "regress=LinearRegression()\n",
        "r=0.01\n",
        "regress.fit(X_train,y_train,r)\n",
        "print(regress.get_coeff())\n",
        "#print(w_1.shape)\n",
        "#print(X_test.shape)\n",
        "\n",
        "y_pred=regress.predict(X_test)\n",
        "MSE_value=MSE(y_pred,y_test)\n",
        "\n",
        "\n",
        "print(MSE_value)"
      ],
      "execution_count": 24,
      "outputs": [
        {
          "output_type": "stream",
          "text": [
            "(array([ 0.05070733, -0.16114468, -0.12744623, -0.05147877,  0.06834457,\n",
            "        0.56234071]), 0.27149732366729484)\n",
            "0.040408450821083\n"
          ],
          "name": "stdout"
        }
      ]
    },
    {
      "cell_type": "markdown",
      "metadata": {
        "id": "3QB-vCqz6u5z"
      },
      "source": [
        "Explanation for 2b) - "
      ]
    },
    {
      "cell_type": "markdown",
      "metadata": {
        "id": "NNDl68N26yY3"
      },
      "source": [
        "2c) Use the module Linear Regression from sklearn to predict the price of diamonds(considering the same attributes as before) and compare the result obtained with the above. \n"
      ]
    },
    {
      "cell_type": "code",
      "metadata": {
        "colab": {
          "base_uri": "https://localhost:8080/"
        },
        "id": "50xYhwND64tM",
        "outputId": "2f332247-ecf8-4eff-be89-1f143d4eee0d"
      },
      "source": [
        "# import sklearn model\n",
        "from sklearn.linear_model import LinearRegression\n",
        "reg = LinearRegression()\n",
        "reg.fit(X_train, y_train)\n",
        "\n",
        "#X_test = X_test.drop(['carat_sqrd','carat_exp'], axis = 1)\n",
        "\n",
        "y_pred = reg.predict(X_test)\n",
        "\n",
        "# store errors\n",
        "sk_MSE_value=MSE(y_pred,y_test)\n",
        "\n",
        "\n",
        "print(sk_MSE_value)"
      ],
      "execution_count": 25,
      "outputs": [
        {
          "output_type": "stream",
          "text": [
            "0.00912235916415631\n"
          ],
          "name": "stdout"
        }
      ]
    },
    {
      "cell_type": "code",
      "metadata": {
        "colab": {
          "base_uri": "https://localhost:8080/"
        },
        "id": "NlpZmB1Xz61w",
        "outputId": "c36916fd-7c4a-4a38-9e22-a9e280a441bc"
      },
      "source": [
        "y = PrettyTable()\n",
        "\n",
        "y.field_names = [\"Measure\",\"LinearRegScratch\", \"Sklearn_reg\"]\n",
        "y.add_row([\"MSE\",MSE_value,sk_MSE_value])\n",
        "\n",
        "print(y)"
      ],
      "execution_count": 26,
      "outputs": [
        {
          "output_type": "stream",
          "text": [
            "+---------+-------------------+---------------------+\n",
            "| Measure |  LinearRegScratch |     Sklearn_reg     |\n",
            "+---------+-------------------+---------------------+\n",
            "|   MSE   | 0.040408450821083 | 0.00912235916415631 |\n",
            "+---------+-------------------+---------------------+\n"
          ],
          "name": "stdout"
        }
      ]
    },
    {
      "cell_type": "markdown",
      "metadata": {
        "id": "121Z4wwx7CLk"
      },
      "source": [
        "2d) Now, using the whole dataset, predict the price of the Diamonds using the module of Linear Regression from sklearn. Report the changes you have observed compared to before? Adding extra features did it make the prediction better or worse.Comment? \n"
      ]
    },
    {
      "cell_type": "code",
      "metadata": {
        "colab": {
          "base_uri": "https://localhost:8080/"
        },
        "id": "Eo1pB2QB7Jqz",
        "outputId": "44227638-98ca-4446-c51d-471db2c12c61"
      },
      "source": [
        "X_train, X_test, y_train, y_test  \\\n",
        "= train_test_split(X, Y, test_size=0.2, random_state=1)\n",
        "\n",
        "reg_whole = LinearRegression()\n",
        "reg_whole.fit(X_train, y_train)\n",
        "\n",
        "#X_test = X_test.drop(['carat_sqrd','carat_exp'], axis = 1)\n",
        "\n",
        "y_pred_reg = reg_whole.predict(X_test)\n",
        "\n",
        "# store errors\n",
        "sk_MSE_value_whole=MSE(y_pred_reg,y_test)\n",
        "\n",
        "\n",
        "print(sk_MSE_value_whole)"
      ],
      "execution_count": 27,
      "outputs": [
        {
          "output_type": "stream",
          "text": [
            "0.0053069110053337335\n"
          ],
          "name": "stdout"
        }
      ]
    },
    {
      "cell_type": "code",
      "metadata": {
        "colab": {
          "base_uri": "https://localhost:8080/"
        },
        "id": "wsUFeKB83aSh",
        "outputId": "be6a33cc-977e-43e9-cd25-3b3075a7b86b"
      },
      "source": [
        "y = PrettyTable()\n",
        "\n",
        "y.field_names = [\"Measure\",\"LinearRegScratch\", \"Sklearn_reg\",\"skreg_whole\"]\n",
        "y.add_row([\"MSE\",MSE_value,sk_MSE_value,sk_MSE_value_whole])\n",
        "\n",
        "print(y)"
      ],
      "execution_count": 28,
      "outputs": [
        {
          "output_type": "stream",
          "text": [
            "+---------+-------------------+---------------------+-----------------------+\n",
            "| Measure |  LinearRegScratch |     Sklearn_reg     |      skreg_whole      |\n",
            "+---------+-------------------+---------------------+-----------------------+\n",
            "|   MSE   | 0.040408450821083 | 0.00912235916415631 | 0.0053069110053337335 |\n",
            "+---------+-------------------+---------------------+-----------------------+\n"
          ],
          "name": "stdout"
        }
      ]
    },
    {
      "cell_type": "markdown",
      "metadata": {
        "id": "FlNMTRrf7ozL"
      },
      "source": [
        "###From the above reports we can conclude that removing the features is of not much help since the MSE values after adding all the features(i.e on whole dataset) is `better` by a tad which is 0.005 ."
      ]
    },
    {
      "cell_type": "markdown",
      "metadata": {
        "id": "cAqKLuCh7qP5"
      },
      "source": [
        "2e) Now, compare the algorithms KNN regression and Linear Regression. What are the differences you have observed? Which is better and why. Your statements should be backed up with statistics. \n"
      ]
    },
    {
      "cell_type": "markdown",
      "metadata": {
        "id": "4Qb2nIZ171vI"
      },
      "source": [
        "###Explanation -  For the same diamond data set knn is showing better performance if we consider the Mean Square error as a metric Knn has a value of 0.0014(approx) whereas the linear regression has 0.005 Mean square error which is a tad higher. Knn regression is very slow where as Linear regression is quick to predict the data and the MSE value is also very close to knn which makes it reliable for this dataset. It does not calculate any distances and just fits a line/Hyperplane to the training data. So, it is fast."
      ]
    },
    {
      "cell_type": "markdown",
      "metadata": {
        "id": "vdAATTFJ8Lvn"
      },
      "source": [
        "2f) Plot the predicted values from KNN regression, Linear Regression and Actual Diamond Price.\n"
      ]
    },
    {
      "cell_type": "code",
      "metadata": {
        "id": "Wts-tBCC8NiA",
        "colab": {
          "base_uri": "https://localhost:8080/",
          "height": 346
        },
        "outputId": "14795255-daf3-40bc-d552-0faaf95e311f"
      },
      "source": [
        "#plot \n",
        "\n",
        "#pred_y_knn\n",
        "#y_pred_reg\n",
        "g=plt.scatter(validate_Y, pred_y_knn)\n",
        "#g.axes.set_yscale('log')\n",
        "#g.axes.set_xscale('log')\n",
        "g.axes.set_xlabel('True Values ')\n",
        "g.axes.set_ylabel('Predictions-KNN ')\n",
        "g.axes.axis('equal')\n",
        "g.axes.axis('square')\n",
        "\n"
      ],
      "execution_count": null,
      "outputs": [
        {
          "output_type": "execute_result",
          "data": {
            "text/plain": [
              "(-0.047926690814726725,\n",
              " 1.0480888792777208,\n",
              " -0.04386008541925718,\n",
              " 1.0521554846731902)"
            ]
          },
          "metadata": {
            "tags": []
          },
          "execution_count": 70
        },
        {
          "output_type": "display_data",
          "data": {
            "image/png": "[encoded data removed]",
            "text/plain": [
              "<Figure size 432x288 with 1 Axes>"
            ]
          },
          "metadata": {
            "tags": [],
            "needs_background": "light"
          }
        }
      ]
    },
    {
      "cell_type": "code",
      "metadata": {
        "colab": {
          "base_uri": "https://localhost:8080/",
          "height": 346
        },
        "id": "s-pVaW9ohKNO",
        "outputId": "069ff9c0-b790-4f01-f168-d5f8da65a69e"
      },
      "source": [
        "\r\n",
        "h=plt.scatter(y_test, y_pred_reg)\r\n",
        "#g.axes.set_yscale('log')\r\n",
        "#g.axes.set_xscale('log')\r\n",
        "h.axes.set_xlabel('True Values ')\r\n",
        "h.axes.set_ylabel('Predictions-KNN ')\r\n",
        "h.axes.axis('equal')\r\n",
        "h.axes.axis('square')\r\n"
      ],
      "execution_count": null,
      "outputs": [
        {
          "output_type": "execute_result",
          "data": {
            "text/plain": [
              "(-0.049362058712223614,\n",
              " 2.2315592976842717,\n",
              " -0.22219593190847822,\n",
              " 2.058725424488017)"
            ]
          },
          "metadata": {
            "tags": []
          },
          "execution_count": 69
        },
        {
          "output_type": "display_data",
          "data": {
            "image/png": "[encoded data removed]",
            "text/plain": [
              "<Figure size 432x288 with 1 Axes>"
            ]
          },
          "metadata": {
            "tags": [],
            "needs_background": "light"
          }
        }
      ]
    },
    {
      "cell_type": "markdown",
      "metadata": {
        "id": "-PkRYsKTzzLM"
      },
      "source": [
        "#**KNN Classifier**"
      ]
    },
    {
      "cell_type": "markdown",
      "metadata": {
        "id": "Ve2icBQ8Zuqq"
      },
      "source": [
        "In this problem you are required to train, test and validate a K-Nearest Neighbor Classifier on the famous CIFAR-10 dataset. The next few cells will guide you through the process. Follow along..."
      ]
    },
    {
      "cell_type": "code",
      "metadata": {
        "colab": {
          "base_uri": "https://localhost:8080/"
        },
        "id": "1BZZyZZ3bq-3",
        "outputId": "506e7e79-bcd4-4ebe-d241-b9edabff4321"
      },
      "source": [
        "# Run some setup code for this notebook.\n",
        " # Import necessary statements \n",
        "from sklearn import preprocessing\n",
        "import sklearn\n",
        "import random\n",
        "from numpy.random import permutation\n",
        "import pandas as pd\n",
        "import numpy as np \n",
        "from math import sqrt \n",
        "from prettytable import PrettyTable\n",
        "import matplotlib.pyplot as plt\n",
        "from sklearn.neighbors import KNeighborsRegressor\n",
        "from sklearn.model_selection import train_test_split\n",
        "import math\n",
        "from scipy.stats import pearsonr\n",
        "from sklearn.linear_model import LinearRegression\n",
        "%matplotlib inline\n",
        "import random\n",
        "import os\n",
        " \n",
        " \n",
        "from __future__ import print_function\n",
        " \n",
        "from builtins import range\n",
        "from six.moves import cPickle as pickle\n",
        "from imageio import imread\n",
        "import platform\n",
        " \n",
        "# This is a bit of magic to make matplotlib figures appear inline in the notebook\n",
        "# rather than in a new window.\n",
        "%matplotlib inline\n",
        "plt.rcParams['figure.figsize'] = (10.0, 8.0) # set default size of plots\n",
        "plt.rcParams['image.interpolation'] = 'nearest'\n",
        "plt.rcParams['image.cmap'] = 'gray'\n",
        " \n",
        "# Some more magic so that the notebook will reload external python modules;\n",
        "# see http://stackoverflow.com/questions/1907993/autoreload-of-modules-in-ipython\n",
        "%load_ext autoreload\n",
        "%autoreload 2"
      ],
      "execution_count": 47,
      "outputs": [
        {
          "output_type": "stream",
          "text": [
            "The autoreload extension is already loaded. To reload it, use:\n",
            "  %reload_ext autoreload\n"
          ],
          "name": "stdout"
        }
      ]
    },
    {
      "cell_type": "code",
      "metadata": {
        "colab": {
          "base_uri": "https://localhost:8080/"
        },
        "id": "v9TLyifNd5eE",
        "outputId": "ac28e612-f05c-4d77-88e5-48b72de7277f"
      },
      "source": [
        "# Download the dataset\n",
        "!wget http://www.cs.toronto.edu/~kriz/cifar-10-python.tar.gz -O cifar-10-python.tar.gz\n",
        "!tar -xzvf cifar-10-python.tar.gz\n",
        "!rm cifar-10-python.tar.gz"
      ],
      "execution_count": 48,
      "outputs": [
        {
          "output_type": "stream",
          "text": [
            "--2021-02-09 08:43:59--  http://www.cs.toronto.edu/~kriz/cifar-10-python.tar.gz\n",
            "Resolving www.cs.toronto.edu (www.cs.toronto.edu)... 128.100.3.30\n",
            "Connecting to www.cs.toronto.edu (www.cs.toronto.edu)|128.100.3.30|:80... connected.\n",
            "HTTP request sent, awaiting response... 200 OK\n",
            "Length: 170498071 (163M) [application/x-gzip]\n",
            "Saving to: ‘cifar-10-python.tar.gz’\n",
            "\n",
            "cifar-10-python.tar 100%[===================>] 162.60M  73.1MB/s    in 2.2s    \n",
            "\n",
            "2021-02-09 08:44:02 (73.1 MB/s) - ‘cifar-10-python.tar.gz’ saved [170498071/170498071]\n",
            "\n",
            "cifar-10-batches-py/\n",
            "cifar-10-batches-py/data_batch_4\n",
            "cifar-10-batches-py/readme.html\n",
            "cifar-10-batches-py/test_batch\n",
            "cifar-10-batches-py/data_batch_3\n",
            "cifar-10-batches-py/batches.meta\n",
            "cifar-10-batches-py/data_batch_2\n",
            "cifar-10-batches-py/data_batch_5\n",
            "cifar-10-batches-py/data_batch_1\n"
          ],
          "name": "stdout"
        }
      ]
    },
    {
      "cell_type": "code",
      "metadata": {
        "colab": {
          "base_uri": "https://localhost:8080/"
        },
        "id": "LUWUH9G8dsAi",
        "outputId": "04381bb1-0a6f-4353-b98a-fa8e9029fec8"
      },
      "source": [
        "# This cell loads the training and testing dataset. Please note the variables at\n",
        "# the end of the cell as you would require them to access the train/test data \n",
        "# and labels throughout the assignment\n",
        "def load_pickle(f):\n",
        "    version = platform.python_version_tuple()\n",
        "    if version[0] == '2':\n",
        "        return  pickle.load(f)\n",
        "    elif version[0] == '3':\n",
        "        return  pickle.load(f, encoding='latin1')\n",
        "    raise ValueError(\"invalid python version: {}\".format(version))\n",
        "  \n",
        "def load_CIFAR_batch(filename):\n",
        "    \"\"\" load single batch of cifar \"\"\"\n",
        "    with open(filename, 'rb') as f:\n",
        "        datadict = load_pickle(f)\n",
        "        X = datadict['data']\n",
        "        Y = datadict['labels']\n",
        "        X = X.reshape(10000, 3, 32, 32).transpose(0,2,3,1).astype(\"float\")\n",
        "        Y = np.array(Y)\n",
        "        return X, Y\n",
        " \n",
        "def load_CIFAR10(ROOT):\n",
        "    \"\"\" load all of cifar \"\"\"\n",
        "    xs = []\n",
        "    ys = []\n",
        "    for b in range(1,6):\n",
        "        f = os.path.join(ROOT, 'data_batch_%d' % (b, ))\n",
        "        X, Y = load_CIFAR_batch(f)\n",
        "        xs.append(X)\n",
        "        ys.append(Y)\n",
        "    Xtr = np.concatenate(xs)\n",
        "    Ytr = np.concatenate(ys)\n",
        "    del X, Y\n",
        "    Xte, Yte = load_CIFAR_batch(os.path.join(ROOT, 'test_batch'))\n",
        "    return Xtr, Ytr, Xte, Yte\n",
        " \n",
        " \n",
        "cifar10_dir = 'cifar-10-batches-py'\n",
        " \n",
        "# Cleaning up variables to prevent loading data multiple times\n",
        "try:\n",
        "   del X_train, y_train\n",
        "   del X_test, y_test\n",
        "   print('Clear previously loaded data.')\n",
        "except:\n",
        "   pass\n",
        " \n",
        "X_train, y_train, X_test, y_test = load_CIFAR10(cifar10_dir)\n",
        " \n",
        "# As a sanity check, we print out the size of the training and test data.\n",
        "print('Training data shape: ', X_train.shape)\n",
        "print('Training labels shape: ', y_train.shape)\n",
        "print('Test data shape: ', X_test.shape)\n",
        "print('Test labels shape: ', y_test.shape)"
      ],
      "execution_count": 49,
      "outputs": [
        {
          "output_type": "stream",
          "text": [
            "Clear previously loaded data.\n",
            "Training data shape:  (50000, 32, 32, 3)\n",
            "Training labels shape:  (50000,)\n",
            "Test data shape:  (10000, 32, 32, 3)\n",
            "Test labels shape:  (10000,)\n"
          ],
          "name": "stdout"
        }
      ]
    },
    {
      "cell_type": "markdown",
      "metadata": {
        "id": "ImbVaneln_Vo"
      },
      "source": [
        "Next we visualize the CIFAR-10 dataset. Although these functions are being written for you, we highly recommend you go through the code and make yourself familiar as these are things you will be required to do very often when working on AI/ML projects"
      ]
    },
    {
      "cell_type": "code",
      "metadata": {
        "colab": {
          "base_uri": "https://localhost:8080/",
          "height": 476
        },
        "id": "JBiR9dSyn1mV",
        "outputId": "2237f546-efb2-4197-f484-f8ad6f57a064"
      },
      "source": [
        "# Visualize some examples from the dataset.\n",
        "# We show a few examples of training images from each class.\n",
        "classes = ['plane', 'car', 'bird', 'cat', 'deer', 'dog', 'frog', 'horse', 'ship', 'truck']\n",
        "num_classes = len(classes)\n",
        "samples_per_class = 7\n",
        "for y, cls in enumerate(classes):\n",
        "    idxs = np.flatnonzero(y_train == y)\n",
        "    idxs = np.random.choice(idxs, samples_per_class, replace=False)\n",
        "    for i, idx in enumerate(idxs):\n",
        "        plt_idx = i * num_classes + y + 1\n",
        "        plt.subplot(samples_per_class, num_classes, plt_idx)\n",
        "        plt.imshow(X_train[idx].astype('uint8'))\n",
        "        plt.axis('off')\n",
        "        if i == 0:\n",
        "            plt.title(cls)\n",
        "plt.show()"
      ],
      "execution_count": 50,
      "outputs": [
        {
          "output_type": "display_data",
          "data": {
            "image/png": "[encoded data removed]",
            "text/plain": [
              "<Figure size 720x576 with 70 Axes>"
            ]
          },
          "metadata": {
            "tags": [],
            "needs_background": "light"
          }
        }
      ]
    },
    {
      "cell_type": "markdown",
      "metadata": {
        "id": "3J80qrXPoaIx"
      },
      "source": [
        "In the next cell we flatten each image into a single dimensional vector so that it is easy to process. You should be able to reason about the dimensions comfortable."
      ]
    },
    {
      "cell_type": "code",
      "metadata": {
        "colab": {
          "base_uri": "https://localhost:8080/"
        },
        "id": "-FoCgA3Xn9K6",
        "outputId": "c4addd30-4365-4309-ddaa-4ef0b01cdb07"
      },
      "source": [
        "# Subsample the data for more efficient code execution in this exercise\n",
        "num_training = 5000\n",
        "mask = list(range(num_training))\n",
        "X_train = X_train[mask]\n",
        "y_train = y_train[mask]\n",
        "\n",
        "num_test = 500\n",
        "mask = list(range(num_test))\n",
        "X_test = X_test[mask]\n",
        "y_test = y_test[mask]\n",
        "\n",
        "# Reshape the image data into rows\n",
        "X_train = np.reshape(X_train, (X_train.shape[0], -1))\n",
        "X_test = np.reshape(X_test, (X_test.shape[0], -1))\n",
        "print(X_train.shape, X_test.shape)"
      ],
      "execution_count": 51,
      "outputs": [
        {
          "output_type": "stream",
          "text": [
            "(5000, 3072) (500, 3072)\n"
          ],
          "name": "stdout"
        }
      ]
    },
    {
      "cell_type": "markdown",
      "metadata": {
        "id": "Atyl_HGcgmb5"
      },
      "source": [
        "In the next cell you are going to implement the main KNearestNeighbor class and keep adding functions to it as and when required in the subsequent steps."
      ]
    },
    {
      "cell_type": "code",
      "metadata": {
        "id": "kGM_wB3Wmenb"
      },
      "source": [
        "# You will keep coming back to this cell to add more functions as and when\n",
        "# required. Right now it is very simple!\n",
        "\n",
        "# Reference: https://stackoverflow.com/questions/57689701/how-to-efficiently-compute-an-l2-distance-between-rows-of-two-array-using-only-b?noredirect=1&lq=1\n",
        "\n",
        "\n",
        "class KNearestNeighbor(object):\n",
        "    \"\"\" a kNN classifier with L2 distance \"\"\"\n",
        "\n",
        "    def __init__(self):\n",
        "        pass\n",
        "    \n",
        "    def train(self,X_train,y_train):\n",
        "      self.X_train=X_train\n",
        "      self.y_train=y_train\n",
        "\n",
        "    def compute_distances_two_loops(self,X_test):\n",
        "      no_of_train=self.X_train.shape[0]\n",
        "      no_of_test=X_test.shape[0]\n",
        "      distances=np.zeros((no_of_test,no_of_train))\n",
        "      for i in range(no_of_test):\n",
        "        for j in range(no_of_train):\n",
        "          distances[i,j] = np.sqrt(np.sum(np.square(X_test[i,:]-self.X_train[j,:])))\n",
        "\n",
        "      return distances\n",
        "\n",
        "    def compute_distances_one_loops(self,X_test): # Reference:https://stackoverflow.com/questions/57689701/how-to-efficiently-compute-an-l2-distance-between-rows-of-two-array-using-only-b?noredirect=1&lq=1\n",
        "      no_of_train=self.X_train.shape[0]\n",
        "      no_of_test=X_test.shape[0]\n",
        "      distances=np.zeros((no_of_test,no_of_train))\n",
        "      for i in range(no_of_test):\n",
        "        distances[i,:] = np.sqrt(np.sum(np.square(X_test[i,:]-self.X_train),axis=1))\n",
        "      return distances\n",
        "\n",
        "    def compute_distances_no_loops(self,X_test):     # Reference:https://stackoverflow.com/questions/57689701/how-to-efficiently-compute-an-l2-distance-between-rows-of-two-array-using-only-b?noredirect=1&lq=1\n",
        "      no_of_train=self.X_train.shape[0]\n",
        "      no_of_test=X_test.shape[0]\n",
        "      distances=np.zeros((no_of_test,no_of_train))\n",
        "      distances= np.sqrt((X_test**2).sum(axis=1)[:, np.newaxis] + (self.X_train**2).sum(axis=1) - 2 * X_test.dot(self.X_train.T))\n",
        "      return distances\n",
        "    \n",
        "    def __vote__majority(self,nearest_neighbors):\n",
        "                                                             #print(nearest_neighbors)\n",
        "      counts = np.bincount(nearest_neighbors.astype('int'))\n",
        "                                                            #print(counts)\n",
        "                                                            #print(counts.argmax())\n",
        "      return counts.argmax()\n",
        "\n",
        "    def predict_labels(self,dists, k=1):\n",
        "      test_size=dists.shape[0]\n",
        "      y_pred=np.zeros(test_size,dtype=self.y_train.dtype)\n",
        "      for i in range(test_size):\n",
        "        min_ind=np.argsort(dists[i])[:k]\n",
        "        K_nearest_neighbors=[ self.y_train[l] for l in  min_ind]   # actually calculated each test data with every train data\n",
        "                                                                  # so we need to take indices of the train data that are near to the particular test data row/instance/point\n",
        "        #print(K_nearest_neighbors)\n",
        "        y_pred[i]=self.__vote__majority(np.array(K_nearest_neighbors))\n",
        "      \n",
        "      return y_pred\n",
        "\n",
        "      \n",
        "    "
      ],
      "execution_count": 52,
      "outputs": []
    },
    {
      "cell_type": "markdown",
      "metadata": {
        "id": "K0Rk36rKmwwK"
      },
      "source": [
        "Go back to KNearestNeighbor class and add a method to train the classifier. Your function will be called as below. In KNN classifier, this step is a simple memorization of the training data."
      ]
    },
    {
      "cell_type": "code",
      "metadata": {
        "id": "MQy2OIH8nrPd"
      },
      "source": [
        "# Make sure to add train() in the classifier class before executing this cell\n",
        "classifier = KNearestNeighbor()\n",
        "classifier.train(X_train, y_train)"
      ],
      "execution_count": 35,
      "outputs": []
    },
    {
      "cell_type": "markdown",
      "metadata": {
        "id": "R3MZBeobnzN2"
      },
      "source": [
        "Go back to KNearestNeighbor class and add a method to compute distances between each pair of test image and train image. You can use two loops to do this. Remember we are using standard L-2 distance metric. Precisely your method should return a distance matrix($D$) where $D(i,j)$ = **L-2** distance between the $i^{th}$ test image and the $j^{th}$ train image. Your function will be called as below"
      ]
    },
    {
      "cell_type": "code",
      "metadata": {
        "colab": {
          "base_uri": "https://localhost:8080/"
        },
        "id": "r3ACfN_CqbPH",
        "outputId": "0feea125-a69f-4c59-c481-1727193584ee"
      },
      "source": [
        "# Make sure to add compute_distances_two_loops() in the classifier class \n",
        "# before executing this cell\n",
        "dists = classifier.compute_distances_two_loops(X_test)\n",
        "print(dists.shape)"
      ],
      "execution_count": 36,
      "outputs": [
        {
          "output_type": "stream",
          "text": [
            "(500, 5000)\n"
          ],
          "name": "stdout"
        }
      ]
    },
    {
      "cell_type": "markdown",
      "metadata": {
        "id": "-PbMeV5Qq2NZ"
      },
      "source": [
        "Next implement the function to predict labels. Again go back to the KNearestNeighbor class cell. Your function will be called as below"
      ]
    },
    {
      "cell_type": "code",
      "metadata": {
        "colab": {
          "base_uri": "https://localhost:8080/"
        },
        "id": "5F8wO5_GrSK6",
        "outputId": "63f84dc0-eb35-46c0-8d4c-a7bbac8a0994"
      },
      "source": [
        "# Make sure to add predict_labels() in the classifier class \n",
        "# before executing this cell\n",
        "y_test_pred = classifier.predict_labels(dists, k=1)\n",
        "\n",
        "# Compute and print the fraction of correctly predicted examples\n",
        "num_correct = np.sum(y_test_pred == y_test)\n",
        "\n",
        "accuracy = float(num_correct) / num_test\n",
        "\n",
        "print('Got %d / %d correct => accuracy: %f' % (num_correct, num_test, accuracy))"
      ],
      "execution_count": 37,
      "outputs": [
        {
          "output_type": "stream",
          "text": [
            "Got 137 / 500 correct => accuracy: 0.274000\n"
          ],
          "name": "stdout"
        }
      ]
    },
    {
      "cell_type": "code",
      "metadata": {
        "colab": {
          "base_uri": "https://localhost:8080/"
        },
        "id": "3EfaDb59rcdq",
        "outputId": "82e121d5-cc45-4418-9c58-d73b60c42524"
      },
      "source": [
        "# Use this cell to compute accuracies for k = 3, 5, 7\n",
        "from prettytable import PrettyTable\n",
        "k_values=[1,3,5,7]\n",
        "k_val_accuracies=[]\n",
        "for i in k_values:\n",
        "  #dists = classifier.compute_distances_two_loops(X_test)\n",
        "  y_test_pred = classifier.predict_labels(dists, k=i)\n",
        "\n",
        "  # Compute and print the fraction of correctly predicted examples\n",
        "  num_correct = np.sum(y_test_pred == y_test)\n",
        "\n",
        "  k_val_accuracies.append(float(num_correct) / num_test)\n",
        "\n",
        "y = PrettyTable()\n",
        "\n",
        "y.field_names = [\"K Value\", \"Accuracy\"]\n",
        "for j,l in enumerate(k_val_accuracies):\n",
        "  y.add_row([k_values[j],l])\n",
        "\n",
        "print(y)\n",
        "\n"
      ],
      "execution_count": 38,
      "outputs": [
        {
          "output_type": "stream",
          "text": [
            "+---------+----------+\n",
            "| K Value | Accuracy |\n",
            "+---------+----------+\n",
            "|    1    |  0.274   |\n",
            "|    3    |  0.272   |\n",
            "|    5    |  0.278   |\n",
            "|    7    |  0.274   |\n",
            "+---------+----------+\n"
          ],
          "name": "stdout"
        }
      ]
    },
    {
      "cell_type": "markdown",
      "metadata": {
        "id": "tcR0kTEWsDDj"
      },
      "source": [
        "Now we have a basic classifier ready but it is extremely inefficient. In Machine Learning writing vectorised code is one of the most important skills. \n",
        "\n",
        "Now you have to again go back to the KNearestNeighbor class cell and add functions to compute the distance matrix using:\n",
        "1.   single loop\n",
        "2.   no loops\n",
        "\n",
        "From here onwards we won't do as much hand holding as done before. You are expected to write all the code from scratch\n",
        "\n"
      ]
    },
    {
      "cell_type": "code",
      "metadata": {
        "id": "E-RvqyKWtZpp"
      },
      "source": [
        "# Use this cell to call the functions\n",
        "from prettytable import PrettyTable\n",
        "\n",
        "knnClass = KNearestNeighbor()\n",
        "knnClass.train(X_train, y_train)\n",
        "\n",
        "accuracy_values=[]\n",
        "\n",
        "one_dists = knnClass.compute_distances_one_loops(X_test)\n",
        "#print(dists.shape)\n",
        "\n",
        "y_test_pred = knnClass.predict_labels(one_dists, k=1)\n",
        "\n",
        "# Compute and print the fraction of correctly predicted examples\n",
        "num_correct = np.sum(y_test_pred == y_test)\n",
        "\n",
        "accuracy_values.append(float(num_correct) / num_test)\n",
        "\n",
        "#print('Got %d / %d correct => accuracy: %f' % (num_correct, num_test, accuracy[0]))\n",
        "\n",
        "\n"
      ],
      "execution_count": 39,
      "outputs": []
    },
    {
      "cell_type": "code",
      "metadata": {
        "id": "O__JeWGsqqTK"
      },
      "source": [
        "no_dists = knnClass.compute_distances_no_loops(X_test)\n",
        "#print(dists.shape)\n",
        "\n",
        "y_test_pred = knnClass.predict_labels(no_dists, k=1)\n",
        "\n",
        "# Compute and print the fraction of correctly predicted examples\n",
        "num_correct = np.sum(y_test_pred == y_test)\n",
        "\n",
        "accuracy_values.append(float(num_correct) / num_test)\n",
        "\n",
        "#print('Got %d / %d correct => accuracy: %f' % (num_correct, num_test, accuracy[1]))"
      ],
      "execution_count": 40,
      "outputs": []
    },
    {
      "cell_type": "code",
      "metadata": {
        "colab": {
          "base_uri": "https://localhost:8080/"
        },
        "id": "lkVQ3SrxlnvI",
        "outputId": "66679280-aea9-443b-beaa-a645e26f7b38"
      },
      "source": [
        "z = PrettyTable()\n",
        "\n",
        "z.field_names = [\"K Value\", \"Accuracy\"]\n",
        "for l in accuracy_values:\n",
        "  z.add_row([\"1\",l])\n",
        "\n",
        "print(z)"
      ],
      "execution_count": 41,
      "outputs": [
        {
          "output_type": "stream",
          "text": [
            "+---------+----------+\n",
            "| K Value | Accuracy |\n",
            "+---------+----------+\n",
            "|    1    |  0.274   |\n",
            "|    1    |  0.274   |\n",
            "+---------+----------+\n"
          ],
          "name": "stdout"
        }
      ]
    },
    {
      "cell_type": "markdown",
      "metadata": {
        "id": "1J8F3PB3tgPf"
      },
      "source": [
        "Next, you are required to tabulate the time taken to compute the distance matrix using each of the three above methods implemented for k = 1, 3, 5, 7."
      ]
    },
    {
      "cell_type": "code",
      "metadata": {
        "id": "N2_Fyhk6t36f"
      },
      "source": [
        "# Use this cell to present your timing results for computing distance matrix\n",
        "import time\n",
        "\n",
        "knnClass2 = KNearestNeighbor()\n",
        "knnClass2.train(X_train, y_train)\n",
        "\n",
        "\n",
        "distance_method_time=[]\n",
        "\n",
        "k_times=[]\n",
        "\n",
        "k_val_accuracies=[]\n",
        "k_values=[1,3,5,7]\n",
        "start = time.time()\n",
        "two_dist=knnClass2.compute_distances_two_loops(X_test)\n",
        "end = time.time()\n",
        "distance_method_time.append(end-start)\n",
        "\n",
        "\n",
        "for i in k_values:\n",
        "  #dists = classifier.compute_distances_two_loops(X_test)\n",
        "\n",
        "  start = time.time()\n",
        "  y_test_pred = knnClass2.predict_labels(two_dist, k=i)\n",
        "\n",
        "  # Compute and print the fraction oend = time.time()f correctly predicted examples\n",
        "  num_correct = np.sum(y_test_pred == y_test)\n",
        "\n",
        "  k_val_accuracies.append(float(num_correct) / num_test)\n",
        "  end = time.time()\n",
        "  k_times.append(end-start)\n",
        "\n",
        "start = time.time()\n",
        "one_dist=knnClass2.compute_distances_one_loops(X_test)\n",
        "end = time.time()\n",
        "distance_method_time.append(end-start)\n",
        "\n",
        "\n",
        "for i in k_values:\n",
        "  #dists = classifier.compute_distances_two_loops(X_test)\n",
        "\n",
        "  start = time.time()\n",
        "  y_test_pred = knnClass2.predict_labels(one_dist, k=i)\n",
        "\n",
        "  # Compute and print the fraction oend = time.time()f correctly predicted examples\n",
        "  num_correct = np.sum(y_test_pred == y_test)\n",
        "\n",
        "  k_val_accuracies.append(float(num_correct) / num_test)\n",
        "  end = time.time()\n",
        "  k_times.append(end-start)\n",
        "\n",
        "start = time.time()\n",
        "no_dist=knnClass2.compute_distances_one_loops(X_test)\n",
        "end = time.time()\n",
        "distance_method_time.append(end-start)\n",
        "\n",
        "\n",
        "for i in k_values:\n",
        "  #dists = classifier.compute_distances_two_loops(X_test)\n",
        "\n",
        "  start = time.time()\n",
        "  y_test_pred = knnClass2.predict_labels(no_dist, k=i)\n",
        "\n",
        "  # Compute and print the fraction oend = time.time()f correctly predicted examples\n",
        "  num_correct = np.sum(y_test_pred == y_test)\n",
        "\n",
        "  k_val_accuracies.append(float(num_correct) / num_test)\n",
        "  end = time.time()\n",
        "  k_times.append(end-start)\n",
        "\n",
        "\n"
      ],
      "execution_count": 42,
      "outputs": []
    },
    {
      "cell_type": "code",
      "metadata": {
        "colab": {
          "base_uri": "https://localhost:8080/"
        },
        "id": "bJUziGRdtGbd",
        "outputId": "43390b15-347a-4bcc-f59f-e607b9db2e29"
      },
      "source": [
        "y = PrettyTable()\n",
        "\n",
        "y.field_names = [\"distance metric\",\"Time for distance calculation\", \"k=1\",\"k=3\",\"k=5\",\"k=7\"]\n",
        "y.add_row([\"two_loops\",distance_method_time[0],k_times[0],k_times[1],k_times[2],k_times[3]])\n",
        "y.add_row([\"one_loops\",distance_method_time[1],k_times[4],k_times[5],k_times[6],k_times[7]])\n",
        "y.add_row([\"no_loops\",distance_method_time[2],k_times[8],k_times[9],k_times[10],k_times[11]])\n",
        "\n",
        "print(y)"
      ],
      "execution_count": 43,
      "outputs": [
        {
          "output_type": "stream",
          "text": [
            "+-----------------+-------------------------------+---------------------+---------------------+---------------------+---------------------+\n",
            "| distance metric | Time for distance calculation |         k=1         |         k=3         |         k=5         |         k=7         |\n",
            "+-----------------+-------------------------------+---------------------+---------------------+---------------------+---------------------+\n",
            "|    two_loops    |       37.04943299293518       |  0.2059016227722168 |  0.2068040370941162 | 0.20520353317260742 |  0.2060248851776123 |\n",
            "|    one_loops    |       33.97467756271362       | 0.20857906341552734 | 0.20714926719665527 | 0.21083641052246094 | 0.20760703086853027 |\n",
            "|     no_loops    |       33.92679572105408       | 0.20443105697631836 | 0.20369243621826172 | 0.20546317100524902 | 0.20586490631103516 |\n",
            "+-----------------+-------------------------------+---------------------+---------------------+---------------------+---------------------+\n"
          ],
          "name": "stdout"
        }
      ]
    },
    {
      "cell_type": "markdown",
      "metadata": {
        "id": "Tw0j1o8JuBZu"
      },
      "source": [
        "As you can see that in KNN algorithm it is important to tune the hyperparameter K. We will do this using Cross Validation Leave One Out approach. The idea is to split the train set into few folds(here we recommend you to set the fold number to 5). Then, for each value of K, we leave one of these folds out to evaluate performance but use the others to train. Repeat this by leaving each fold out once. You will get 5 accuracies in this case, one for leaving out each fold. Depending on the average accuracy decide on the optimal value of K. Report the same. We also expect you to present plots showing the average accuracy and standard deviation for each value of K."
      ]
    },
    {
      "cell_type": "code",
      "metadata": {
        "id": "JwKY3D05vw4h"
      },
      "source": [
        "# Use this cell to implement Cross Validation\n",
        "\n",
        "from sklearn.model_selection import KFold\n",
        "\n",
        "no_folds=5\n",
        "\n",
        "kfolds = KFold(no_folds, True)\n",
        "import time\n",
        "\n",
        "k=[1,3,5,7]\n",
        "\n",
        "#\n",
        "num_training = 5000\n",
        "mask = list(range(num_training))\n",
        "X_train = X_train[mask]\n",
        "y_train = y_train[mask]\n",
        "\n",
        "\n",
        "num_test = 500\n",
        "mask = list(range(num_test))\n",
        "X_test = X_test[mask]\n",
        "y_test = y_test[mask]\n",
        "\n",
        "# Reshape the image data into rows\n",
        "X_train = np.reshape(X_train, (X_train.shape[0], -1))\n",
        "X_test = np.reshape(X_test, (X_test.shape[0], -1))\n",
        "\n",
        "X=np.append(X_train,X_test,axis=0)\n",
        "y=np.append(y_train,y_test,axis=0)\n",
        "data=np.column_stack((X,y))\n",
        "\n",
        "\n",
        "#KNearestNeighbor\n",
        "k__accuracies=[]\n",
        "avg_k_accu=[]\n",
        "std_k=[]\n",
        "for i in k:\n",
        "  for train, test in kfolds.split(data):\n",
        "    \n",
        "    X_train=data[train][:,:-1]\n",
        "    y_train=data[train][:,-1]\n",
        "    X_test=data[test][:,:-1]\n",
        "    y_test=data[test][:,-1]\n",
        "    \n",
        "\n",
        "    cls = KNearestNeighbor()\n",
        "    cls.train(X_train, y_train)\n",
        "    no_dists = cls.compute_distances_no_loops(X_test)\n",
        "    \n",
        "    start = time.time()\n",
        "    y_test_pred = cls.predict_labels(no_dists, k=i)\n",
        "\n",
        "    # Compute and print the fraction oend = time.time()f correctly predicted examples\n",
        "    num_correct = np.sum(y_test_pred == y_test)\n",
        "\n",
        "    k__accuracies.append(float(num_correct) / num_test)\n",
        "    end = time.time()\n",
        "  a=np.array(k__accuracies)\n",
        "\n",
        "  avg_k_accu.append(np.mean(a))\n",
        "  std_k.append(np.std(a))\n",
        "\n",
        "  k__accuracies.clear()\n",
        "\n",
        "\n",
        "\n"
      ],
      "execution_count": 44,
      "outputs": []
    },
    {
      "cell_type": "code",
      "metadata": {
        "colab": {
          "base_uri": "https://localhost:8080/",
          "height": 1000
        },
        "id": "utosAH_CYTGy",
        "outputId": "471ab132-2e2e-4d04-8cab-3004b1a98108"
      },
      "source": [
        "plt.title('Accuracies for k=1,3,5,7')\r\n",
        "plt.plot(np.array(k),np.array(avg_k_accu), label='Accuracy Vs K ')\r\n",
        "plt.legend()\r\n",
        "plt.xlabel('HYper parameter K ')\r\n",
        "plt.ylabel('Avg_accuracy Values')\r\n",
        "plt.show()\r\n",
        "\r\n",
        "plt.title('standard deviaiton for k=1,3,5,7')\r\n",
        "plt.plot(np.array(k),np.array(std_k), label='standard deviation Vs K ')\r\n",
        "plt.legend()\r\n",
        "plt.xlabel('HYper parameter K ')\r\n",
        "plt.ylabel('Std. Values')\r\n",
        "plt.show()"
      ],
      "execution_count": 45,
      "outputs": [
        {
          "output_type": "display_data",
          "data": {
            "image/png": "[encoded data removed]",
            "text/plain": [
              "<Figure size 720x576 with 1 Axes>"
            ]
          },
          "metadata": {
            "tags": [],
            "needs_background": "light"
          }
        },
        {
          "output_type": "display_data",
          "data": {
            "image/png": "[encoded data removed]",
            "text/plain": [
              "<Figure size 720x576 with 1 Axes>"
            ]
          },
          "metadata": {
            "tags": [],
            "needs_background": "light"
          }
        }
      ]
    },
    {
      "cell_type": "markdown",
      "metadata": {
        "id": "_69A3FKuYb14"
      },
      "source": [
        "###As we can see from the above two graphs best value of k can be found at K=5 since the average accuracy is maximum and the standard deviation is minimum at that point. "
      ]
    },
    {
      "cell_type": "markdown",
      "metadata": {
        "id": "JvpBcX8av5P1"
      },
      "source": [
        "In this last part of the notebook you are expected to do the following and present appropriate reports/results:\n",
        "\n",
        "1. Try subtracting the mean from each pixel in each image. This mean is computed across all pixels in all images. Report accuracies on the test set for k = 1,3,5,7. Is there any change in the accuracy? Why?\n",
        "2. Try subtracting the mean from each pixel in each image. This mean is computed across all pixels at that position from all images. Report accuracies on the test set for k = 1,3,5,7. Is there any change in the accuracy? Why?\n",
        "3. What is the time complexity of training using KNN classifier? What is the time complexity while testing? Is KNN a linear classifier or can it learn any boundary?\n",
        "4. Bonus: Explore what image features you can use to better the performance of KNN classifier.\n",
        "\n",
        "\n"
      ]
    },
    {
      "cell_type": "code",
      "metadata": {
        "colab": {
          "base_uri": "https://localhost:8080/"
        },
        "id": "5ZZtvodY97ki",
        "outputId": "62df7424-51ce-454c-a4f5-daef25706324"
      },
      "source": [
        "# This cell loads the training and testing dataset. Please note the variables at\n",
        "# the end of the cell as you would require them to access the train/test data \n",
        "# and labels throughout the assignment\n",
        "def load_pickle(f):\n",
        "    version = platform.python_version_tuple()\n",
        "    if version[0] == '2':\n",
        "        return  pickle.load(f)\n",
        "    elif version[0] == '3':\n",
        "        return  pickle.load(f, encoding='latin1')\n",
        "    raise ValueError(\"invalid python version: {}\".format(version))\n",
        "  \n",
        "def load_CIFAR_batch(filename):\n",
        "    \"\"\" load single batch of cifar \"\"\"\n",
        "    with open(filename, 'rb') as f:\n",
        "        datadict = load_pickle(f)\n",
        "        X = datadict['data']\n",
        "        Y = datadict['labels']\n",
        "        X = X.reshape(10000, 3, 32, 32).transpose(0,2,3,1).astype(\"float\")\n",
        "        Y = np.array(Y)\n",
        "        return X, Y\n",
        " \n",
        "def load_CIFAR10(ROOT):\n",
        "    \"\"\" load all of cifar \"\"\"\n",
        "    xs = []\n",
        "    ys = []\n",
        "    for b in range(1,6):\n",
        "        f = os.path.join(ROOT, 'data_batch_%d' % (b, ))\n",
        "        X, Y = load_CIFAR_batch(f)\n",
        "        xs.append(X)\n",
        "        ys.append(Y)\n",
        "    Xtr = np.concatenate(xs)\n",
        "    Ytr = np.concatenate(ys)\n",
        "    del X, Y\n",
        "    Xte, Yte = load_CIFAR_batch(os.path.join(ROOT, 'test_batch'))\n",
        "    return Xtr, Ytr, Xte, Yte\n",
        " \n",
        " \n",
        "cifar10_dir = 'cifar-10-batches-py'\n",
        " \n",
        "# Cleaning up variables to prevent loading data multiple times\n",
        "try:\n",
        "   del X_train, y_train\n",
        "   del X_test, y_test\n",
        "   print('Clear previously loaded data.')\n",
        "except:\n",
        "   pass\n",
        " \n",
        "X_train, y_train, X_test, y_test = load_CIFAR10(cifar10_dir)\n",
        " \n",
        "# As a sanity check, we print out the size of the training and test data.\n",
        "print('Training data shape: ', X_train.shape)\n",
        "print('Training labels shape: ', y_train.shape)\n",
        "print('Test data shape: ', X_test.shape)\n",
        "print('Test labels shape: ', y_test.shape)"
      ],
      "execution_count": 54,
      "outputs": [
        {
          "output_type": "stream",
          "text": [
            "Clear previously loaded data.\n",
            "Training data shape:  (50000, 32, 32, 3)\n",
            "Training labels shape:  (50000,)\n",
            "Test data shape:  (10000, 32, 32, 3)\n",
            "Test labels shape:  (10000,)\n"
          ],
          "name": "stdout"
        }
      ]
    },
    {
      "cell_type": "code",
      "metadata": {
        "colab": {
          "base_uri": "https://localhost:8080/"
        },
        "id": "PCuwE4CLZCKM",
        "outputId": "801b894e-ef17-4194-d507-d1668821d808"
      },
      "source": [
        "#1)Try subtracting the mean from each pixel in each image. This mean is computed across all pixels in all images. Report accuracies on the test set for k = 1,3,5,7. Is there any change in the accuracy? Wh\r\n",
        "\r\n",
        "\r\n",
        "#:reference:https://stackoverflow.com/questions/41979481/mean-pixel-subtraction-for-numpy-array\r\n",
        "\r\n",
        "X_train=X_train-X_train.mean(axis=(0,-2,-1),keepdims=1)\r\n",
        "\r\n",
        "X_test=X_test-X_test.mean(axis=(0,-2,-1),keepdims=1)\r\n",
        "\r\n",
        "# Subsample the data for more efficient code execution in this exercise\r\n",
        "num_training = 5000\r\n",
        "mask = list(range(num_training))\r\n",
        "X_train = X_train[mask]\r\n",
        "y_train = y_train[mask]\r\n",
        "\r\n",
        "num_test = 500\r\n",
        "mask = list(range(num_test))\r\n",
        "X_test = X_test[mask]\r\n",
        "y_test = y_test[mask]\r\n",
        "\r\n",
        "# Reshape the image data into rows\r\n",
        "X_train = np.reshape(X_train, (X_train.shape[0], -1))\r\n",
        "X_test = np.reshape(X_test, (X_test.shape[0], -1))\r\n",
        "print(X_train.shape, X_test.shape)\r\n",
        "\r\n",
        "\r\n"
      ],
      "execution_count": 55,
      "outputs": [
        {
          "output_type": "stream",
          "text": [
            "(5000, 3072) (500, 3072)\n"
          ],
          "name": "stdout"
        }
      ]
    },
    {
      "cell_type": "code",
      "metadata": {
        "colab": {
          "base_uri": "https://localhost:8080/"
        },
        "id": "RRcLrzE_a3TW",
        "outputId": "0f217933-2318-4915-86d6-786a8672aa46"
      },
      "source": [
        "from prettytable import PrettyTable\r\n",
        "\r\n",
        "cls3 = KNearestNeighbor()\r\n",
        "cls3.train(X_train, y_train)\r\n",
        "\r\n",
        "no_dists = cls3.compute_distances_no_loops(X_test)\r\n",
        "\r\n",
        "k_values=[1,3,5,7]\r\n",
        "k_val_accuracies=[]\r\n",
        "\r\n",
        "for i in k_values:\r\n",
        "\r\n",
        "  #dists = classifier.compute_distances_two_loops(X_test)\r\n",
        "\r\n",
        "  y_test_pred = cls3.predict_labels(no_dists, k=i)\r\n",
        "\r\n",
        "  # Compute and print the fraction of correctly predicted examples\r\n",
        "  num_correct = np.sum(y_test_pred == y_test)\r\n",
        "\r\n",
        "  k_val_accuracies.append(float(num_correct) / num_test)\r\n",
        "\r\n",
        "y = PrettyTable()\r\n",
        "\r\n",
        "y.field_names = [\"K Value\", \"Accuracy\"]\r\n",
        "for j,l in enumerate(k_val_accuracies):\r\n",
        "  y.add_row([k_values[j],l])\r\n",
        "\r\n",
        "print(y)"
      ],
      "execution_count": 56,
      "outputs": [
        {
          "output_type": "stream",
          "text": [
            "+---------+----------+\n",
            "| K Value | Accuracy |\n",
            "+---------+----------+\n",
            "|    1    |  0.274   |\n",
            "|    3    |  0.276   |\n",
            "|    5    |  0.278   |\n",
            "|    7    |  0.272   |\n",
            "+---------+----------+\n"
          ],
          "name": "stdout"
        }
      ]
    },
    {
      "cell_type": "markdown",
      "metadata": {
        "id": "sJGKfQmLbcVi"
      },
      "source": [
        "### For the first question where we subtract mean from each image. The accuracy for k=3 increased by a tad but all accuracies almost remain same"
      ]
    },
    {
      "cell_type": "code",
      "metadata": {
        "id": "01h0z-gFblym"
      },
      "source": [
        "#2)Try subtracting the mean from each pixel in each image. This mean is computed across all pixels at that position from all images. Report accuracies on the test set for k = 1,3,5,7. Is there any change in the accuracy? Why?\r\n",
        "\r\n"
      ],
      "execution_count": null,
      "outputs": []
    },
    {
      "cell_type": "markdown",
      "metadata": {
        "id": "VsBcZx8_cyqt"
      },
      "source": [
        "### 3) KNN algorithms usually doesnot take time to train as we are just storing the values of training data set. For testing time complexity of the Knn classifier(since I implemented naive approach) will be `O(n*d)` considering `n` training samples and `d` dimensions. Usually it is a non linear classifier. We can state a linear classifier is one which tries to seperate the classes based on the hyper plane like linear regression or SVMS. In Knn we don't have any hyperplanes we only have points in some clusters or dense regions and we are simply considering the class of majority of K neighbors"
      ]
    },
    {
      "cell_type": "markdown",
      "metadata": {
        "id": "6poNZp96z1gN"
      },
      "source": [
        "# **Decision Trees**\n",
        "\n",
        "The Wisconsin Breast Cancer Dataset(WBCD) can be found here(https://archive.ics.uci.edu/ml/machine-learning-databases/breast-cancer-wisconsin/breast-cancer-wisconsin.data)\n",
        "\n",
        "This dataset describes the characteristics of the cell nuclei of various patients with and without breast cancer. The task is to classify a decision tree to predict if a patient has a benign or a malignant tumour based on these features.\n",
        "\n",
        "Attribute Information:\n",
        "```\n",
        "#  Attribute                     Domain\n",
        "   -- -----------------------------------------\n",
        "   1. Sample code number            id number\n",
        "   2. Clump Thickness               1 - 10\n",
        "   3. Uniformity of Cell Size       1 - 10\n",
        "   4. Uniformity of Cell Shape      1 - 10\n",
        "   5. Marginal Adhesion             1 - 10\n",
        "   6. Single Epithelial Cell Size   1 - 10\n",
        "   7. Bare Nuclei                   1 - 10\n",
        "   8. Bland Chromatin               1 - 10\n",
        "   9. Normal Nucleoli               1 - 10\n",
        "  10. Mitoses                       1 - 10\n",
        "  11. Class:                        (2 for benign, 4 for malignant)\n",
        "```\n"
      ]
    },
    {
      "cell_type": "code",
      "metadata": {
        "id": "CB0BVpStkM89"
      },
      "source": [
        "from sklearn import preprocessing\n",
        "import sklearn\n",
        "import random\n",
        "from numpy.random import permutation\n",
        "import pandas as pd\n",
        "import numpy as np \n",
        "from math import sqrt \n",
        "from prettytable import PrettyTable\n",
        "import matplotlib.pyplot as plt\n",
        "from sklearn.neighbors import KNeighborsRegressor\n",
        "from sklearn.model_selection import train_test_split\n",
        "import math\n",
        "from scipy.stats import pearsonr\n",
        "from sklearn.linear_model import LinearRegression\n",
        "%matplotlib inline\n",
        "import random\n",
        "import os\n",
        "from math import log"
      ],
      "execution_count": 101,
      "outputs": []
    },
    {
      "cell_type": "code",
      "metadata": {
        "colab": {
          "base_uri": "https://localhost:8080/",
          "height": 297
        },
        "id": "q14LTptiDDZ4",
        "outputId": "c2f1a96d-0e7a-47ac-bd5f-5fd379ecd69e"
      },
      "source": [
        "\n",
        "headers = [\"ID\",\"CT\",\"UCSize\",\"UCShape\",\"MA\",\"SECSize\",\"BN\",\"BC\",\"NN\",\"Mitoses\",\"Diagnosis\"]\n",
        "data = pd.read_csv('breast-cancer-wisconsin.data', na_values='?',    \n",
        "         header=None, index_col=['ID'], names = headers) \n",
        "data = data.reset_index(drop=True)\n",
        "data = data.fillna(0)\n",
        "data.describe()"
      ],
      "execution_count": 102,
      "outputs": [
        {
          "output_type": "execute_result",
          "data": {
            "text/html": [
              "<div>\n",
              "<style scoped>\n",
              "    .dataframe tbody tr th:only-of-type {\n",
              "        vertical-align: middle;\n",
              "    }\n",
              "\n",
              "    .dataframe tbody tr th {\n",
              "        vertical-align: top;\n",
              "    }\n",
              "\n",
              "    .dataframe thead th {\n",
              "        text-align: right;\n",
              "    }\n",
              "</style>\n",
              "<table border=\"1\" class=\"dataframe\">\n",
              "  <thead>\n",
              "    <tr style=\"text-align: right;\">\n",
              "      <th></th>\n",
              "      <th>CT</th>\n",
              "      <th>UCSize</th>\n",
              "      <th>UCShape</th>\n",
              "      <th>MA</th>\n",
              "      <th>SECSize</th>\n",
              "      <th>BN</th>\n",
              "      <th>BC</th>\n",
              "      <th>NN</th>\n",
              "      <th>Mitoses</th>\n",
              "      <th>Diagnosis</th>\n",
              "    </tr>\n",
              "  </thead>\n",
              "  <tbody>\n",
              "    <tr>\n",
              "      <th>count</th>\n",
              "      <td>699.000000</td>\n",
              "      <td>699.000000</td>\n",
              "      <td>699.000000</td>\n",
              "      <td>699.000000</td>\n",
              "      <td>699.000000</td>\n",
              "      <td>699.000000</td>\n",
              "      <td>699.000000</td>\n",
              "      <td>699.000000</td>\n",
              "      <td>699.000000</td>\n",
              "      <td>699.000000</td>\n",
              "    </tr>\n",
              "    <tr>\n",
              "      <th>mean</th>\n",
              "      <td>4.417740</td>\n",
              "      <td>3.134478</td>\n",
              "      <td>3.207439</td>\n",
              "      <td>2.806867</td>\n",
              "      <td>3.216023</td>\n",
              "      <td>3.463519</td>\n",
              "      <td>3.437768</td>\n",
              "      <td>2.866953</td>\n",
              "      <td>1.589413</td>\n",
              "      <td>2.689557</td>\n",
              "    </tr>\n",
              "    <tr>\n",
              "      <th>std</th>\n",
              "      <td>2.815741</td>\n",
              "      <td>3.051459</td>\n",
              "      <td>2.971913</td>\n",
              "      <td>2.855379</td>\n",
              "      <td>2.214300</td>\n",
              "      <td>3.640708</td>\n",
              "      <td>2.438364</td>\n",
              "      <td>3.053634</td>\n",
              "      <td>1.715078</td>\n",
              "      <td>0.951273</td>\n",
              "    </tr>\n",
              "    <tr>\n",
              "      <th>min</th>\n",
              "      <td>1.000000</td>\n",
              "      <td>1.000000</td>\n",
              "      <td>1.000000</td>\n",
              "      <td>1.000000</td>\n",
              "      <td>1.000000</td>\n",
              "      <td>0.000000</td>\n",
              "      <td>1.000000</td>\n",
              "      <td>1.000000</td>\n",
              "      <td>1.000000</td>\n",
              "      <td>2.000000</td>\n",
              "    </tr>\n",
              "    <tr>\n",
              "      <th>25%</th>\n",
              "      <td>2.000000</td>\n",
              "      <td>1.000000</td>\n",
              "      <td>1.000000</td>\n",
              "      <td>1.000000</td>\n",
              "      <td>2.000000</td>\n",
              "      <td>1.000000</td>\n",
              "      <td>2.000000</td>\n",
              "      <td>1.000000</td>\n",
              "      <td>1.000000</td>\n",
              "      <td>2.000000</td>\n",
              "    </tr>\n",
              "    <tr>\n",
              "      <th>50%</th>\n",
              "      <td>4.000000</td>\n",
              "      <td>1.000000</td>\n",
              "      <td>1.000000</td>\n",
              "      <td>1.000000</td>\n",
              "      <td>2.000000</td>\n",
              "      <td>1.000000</td>\n",
              "      <td>3.000000</td>\n",
              "      <td>1.000000</td>\n",
              "      <td>1.000000</td>\n",
              "      <td>2.000000</td>\n",
              "    </tr>\n",
              "    <tr>\n",
              "      <th>75%</th>\n",
              "      <td>6.000000</td>\n",
              "      <td>5.000000</td>\n",
              "      <td>5.000000</td>\n",
              "      <td>4.000000</td>\n",
              "      <td>4.000000</td>\n",
              "      <td>5.000000</td>\n",
              "      <td>5.000000</td>\n",
              "      <td>4.000000</td>\n",
              "      <td>1.000000</td>\n",
              "      <td>4.000000</td>\n",
              "    </tr>\n",
              "    <tr>\n",
              "      <th>max</th>\n",
              "      <td>10.000000</td>\n",
              "      <td>10.000000</td>\n",
              "      <td>10.000000</td>\n",
              "      <td>10.000000</td>\n",
              "      <td>10.000000</td>\n",
              "      <td>10.000000</td>\n",
              "      <td>10.000000</td>\n",
              "      <td>10.000000</td>\n",
              "      <td>10.000000</td>\n",
              "      <td>4.000000</td>\n",
              "    </tr>\n",
              "  </tbody>\n",
              "</table>\n",
              "</div>"
            ],
            "text/plain": [
              "               CT      UCSize     UCShape  ...          NN     Mitoses   Diagnosis\n",
              "count  699.000000  699.000000  699.000000  ...  699.000000  699.000000  699.000000\n",
              "mean     4.417740    3.134478    3.207439  ...    2.866953    1.589413    2.689557\n",
              "std      2.815741    3.051459    2.971913  ...    3.053634    1.715078    0.951273\n",
              "min      1.000000    1.000000    1.000000  ...    1.000000    1.000000    2.000000\n",
              "25%      2.000000    1.000000    1.000000  ...    1.000000    1.000000    2.000000\n",
              "50%      4.000000    1.000000    1.000000  ...    1.000000    1.000000    2.000000\n",
              "75%      6.000000    5.000000    5.000000  ...    4.000000    1.000000    4.000000\n",
              "max     10.000000   10.000000   10.000000  ...   10.000000   10.000000    4.000000\n",
              "\n",
              "[8 rows x 10 columns]"
            ]
          },
          "metadata": {
            "tags": []
          },
          "execution_count": 102
        }
      ]
    },
    {
      "cell_type": "markdown",
      "metadata": {
        "id": "eo1BRpN8-jFd"
      },
      "source": [
        "1. a) Implement a decision tree(from scratch using only python data structures) as a class."
      ]
    },
    {
      "cell_type": "code",
      "metadata": {
        "colab": {
          "base_uri": "https://localhost:8080/",
          "height": 204
        },
        "id": "v7MhtZWB1fYU",
        "outputId": "8f2ac89c-ebbd-4248-d2cd-27fb7630deeb"
      },
      "source": [
        "data.head()"
      ],
      "execution_count": 103,
      "outputs": [
        {
          "output_type": "execute_result",
          "data": {
            "text/html": [
              "<div>\n",
              "<style scoped>\n",
              "    .dataframe tbody tr th:only-of-type {\n",
              "        vertical-align: middle;\n",
              "    }\n",
              "\n",
              "    .dataframe tbody tr th {\n",
              "        vertical-align: top;\n",
              "    }\n",
              "\n",
              "    .dataframe thead th {\n",
              "        text-align: right;\n",
              "    }\n",
              "</style>\n",
              "<table border=\"1\" class=\"dataframe\">\n",
              "  <thead>\n",
              "    <tr style=\"text-align: right;\">\n",
              "      <th></th>\n",
              "      <th>CT</th>\n",
              "      <th>UCSize</th>\n",
              "      <th>UCShape</th>\n",
              "      <th>MA</th>\n",
              "      <th>SECSize</th>\n",
              "      <th>BN</th>\n",
              "      <th>BC</th>\n",
              "      <th>NN</th>\n",
              "      <th>Mitoses</th>\n",
              "      <th>Diagnosis</th>\n",
              "    </tr>\n",
              "  </thead>\n",
              "  <tbody>\n",
              "    <tr>\n",
              "      <th>0</th>\n",
              "      <td>5</td>\n",
              "      <td>1</td>\n",
              "      <td>1</td>\n",
              "      <td>1</td>\n",
              "      <td>2</td>\n",
              "      <td>1.0</td>\n",
              "      <td>3</td>\n",
              "      <td>1</td>\n",
              "      <td>1</td>\n",
              "      <td>2</td>\n",
              "    </tr>\n",
              "    <tr>\n",
              "      <th>1</th>\n",
              "      <td>5</td>\n",
              "      <td>4</td>\n",
              "      <td>4</td>\n",
              "      <td>5</td>\n",
              "      <td>7</td>\n",
              "      <td>10.0</td>\n",
              "      <td>3</td>\n",
              "      <td>2</td>\n",
              "      <td>1</td>\n",
              "      <td>2</td>\n",
              "    </tr>\n",
              "    <tr>\n",
              "      <th>2</th>\n",
              "      <td>3</td>\n",
              "      <td>1</td>\n",
              "      <td>1</td>\n",
              "      <td>1</td>\n",
              "      <td>2</td>\n",
              "      <td>2.0</td>\n",
              "      <td>3</td>\n",
              "      <td>1</td>\n",
              "      <td>1</td>\n",
              "      <td>2</td>\n",
              "    </tr>\n",
              "    <tr>\n",
              "      <th>3</th>\n",
              "      <td>6</td>\n",
              "      <td>8</td>\n",
              "      <td>8</td>\n",
              "      <td>1</td>\n",
              "      <td>3</td>\n",
              "      <td>4.0</td>\n",
              "      <td>3</td>\n",
              "      <td>7</td>\n",
              "      <td>1</td>\n",
              "      <td>2</td>\n",
              "    </tr>\n",
              "    <tr>\n",
              "      <th>4</th>\n",
              "      <td>4</td>\n",
              "      <td>1</td>\n",
              "      <td>1</td>\n",
              "      <td>3</td>\n",
              "      <td>2</td>\n",
              "      <td>1.0</td>\n",
              "      <td>3</td>\n",
              "      <td>1</td>\n",
              "      <td>1</td>\n",
              "      <td>2</td>\n",
              "    </tr>\n",
              "  </tbody>\n",
              "</table>\n",
              "</div>"
            ],
            "text/plain": [
              "   CT  UCSize  UCShape  MA  SECSize    BN  BC  NN  Mitoses  Diagnosis\n",
              "0   5       1        1   1        2   1.0   3   1        1          2\n",
              "1   5       4        4   5        7  10.0   3   2        1          2\n",
              "2   3       1        1   1        2   2.0   3   1        1          2\n",
              "3   6       8        8   1        3   4.0   3   7        1          2\n",
              "4   4       1        1   3        2   1.0   3   1        1          2"
            ]
          },
          "metadata": {
            "tags": []
          },
          "execution_count": 103
        }
      ]
    },
    {
      "cell_type": "code",
      "metadata": {
        "id": "jIeXdltNkAYH"
      },
      "source": [
        "X=data.values\n",
        "#y=data.values[:,-1]\n",
        "header=headers[:-1]\n",
        "\n",
        "\n",
        "train, test= train_test_split(X, test_size=0.2, random_state=1)\n",
        "y_train=train[:,-1]\n",
        "y_test=test[:,-1]"
      ],
      "execution_count": 104,
      "outputs": []
    },
    {
      "cell_type": "code",
      "metadata": {
        "id": "Ckj9Om4Ic1WO"
      },
      "source": [
        "\n",
        "def is_numeric(value):\n",
        "    \n",
        "    return isinstance(value, int) or isinstance(value, float)\n",
        "\n",
        "\n",
        "class Question:\n",
        "    \n",
        "\n",
        "    def __init__(self, column, value):\n",
        "        self.column = column\n",
        "        self.value = value\n",
        "\n",
        "    def match(self, example):\n",
        "        # Compare the feature value in an example to the\n",
        "        # feature value in this question.\n",
        "        val = example[self.column]\n",
        "        if is_numeric(val):\n",
        "            return val >= self.value\n",
        "        else:\n",
        "            return val == self.value\n",
        "\n",
        "    def __repr__(self):\n",
        "        condition = \"==\"\n",
        "        if is_numeric(self.value):\n",
        "            condition = \">=\"\n",
        "        return \"Is %s %s %s?\" % (\n",
        "            header[self.column], condition, str(self.value))"
      ],
      "execution_count": 105,
      "outputs": []
    },
    {
      "cell_type": "code",
      "metadata": {
        "id": "SZ2-nGGPz3WK"
      },
      "source": [
        "#Reference :https://www.youtube.com/watch?v=LDRbO9a6XPU\n",
        "# Most of the implementation was learned from the above video\n",
        "\n",
        "\n",
        "def class_counts(rows):\n",
        "    \n",
        "  counts = {}  \n",
        "  for row in rows:\n",
        "      \n",
        "      label = row[-1]\n",
        "      if label not in counts:\n",
        "          counts[label] = 0\n",
        "      counts[label] += 1\n",
        "  return counts\n",
        "\n",
        "def partition(rows, question):\n",
        "  \n",
        "  true_rows, false_rows = [], []\n",
        "  for row in rows:\n",
        "      if question.match(row):\n",
        "          true_rows.append(row)\n",
        "      else:\n",
        "          false_rows.append(row)\n",
        "  return true_rows, false_rows\n",
        "\n",
        "\n",
        "def mis_calc(rows):   # http://users.umiacs.umd.edu/~joseph/classes/enee752/Fall09/solutions3.pdf\n",
        "  \n",
        "  labels=[row[-1] for row in rows]\n",
        "  n_labels=len(labels)\n",
        "  counts = np.bincount(labels)\n",
        "  probs = counts / n_labels\n",
        "  error=1-max(probs)\n",
        "  return error\n",
        "\n",
        "    \n",
        "\n",
        "\n",
        "def entropy(rows):    #https://stackoverflow.com/questions/15450192/fastest-way-to-compute-entropy-in-python\n",
        "    labels=[row[-1] for row in rows]\n",
        "    n_labels = len(labels)\n",
        "\n",
        "    if n_labels <= 1:\n",
        "        return 0\n",
        "\n",
        "    counts = np.bincount(labels)\n",
        "    probs = counts / n_labels\n",
        "    n_classes = np.count_nonzero(probs)\n",
        "    #print(probs)\n",
        "\n",
        "    if n_classes <= 1:\n",
        "        return 0\n",
        "\n",
        "    ent = 0.\n",
        "\n",
        "    for i in probs:\n",
        "      if i>0:\n",
        "        ent -= i * log(i, n_classes)\n",
        "\n",
        "    return ent\n",
        "\n",
        "\n",
        "def gini(rows):\n",
        "  \n",
        "  counts = class_counts(rows)\n",
        "  impurity = 1\n",
        "  for lbl in counts:\n",
        "      prob_of_lbl = counts[lbl] / float(len(rows))\n",
        "      impurity -= prob_of_lbl**2\n",
        "  return impurity\n",
        "  \n",
        "def info_gain_gini(left, right, current_uncertainty):\n",
        "   \n",
        "  p = float(len(left)) / (len(left) + len(right))\n",
        "  return current_uncertainty - p * gini(left) - (1 - p) * gini(right)\n",
        "\n",
        "\n",
        "def info_gain_entropy(left, right, current_uncertainty):\n",
        "\n",
        "  p = float(len(left)) / (len(left) + len(right))\n",
        "  return current_uncertainty - p * entropy(left) - (1 - p) * entropy(right)\n",
        "\n",
        "def info_gain_mis_calc(left, right, current_uncertainty):\n",
        "\n",
        "  p = float(len(left)) / (len(left) + len(right))\n",
        "  return current_uncertainty - p * mis_calc(left) - (1 - p) * mis_calc(right)\n",
        "\n",
        "\n",
        "def find_best_split(rows,metric):\n",
        "    \n",
        "  best_gain = 0  \n",
        "  best_question = None  \n",
        "  current_uncertainty=0\n",
        "  if metric==\"gini\":\n",
        "    current_uncertainty = gini(rows)\n",
        "\n",
        "  if metric==\"mis_calc\":\n",
        "    current_uncertainty=mis_calc(rows)\n",
        "\n",
        "  if metric==\"entropy\":\n",
        "    current_uncertainty=entropy(rows)\n",
        "\n",
        "  n_features = len(rows[0]) - 1  \n",
        "\n",
        "  for col in range(n_features): \n",
        "\n",
        "      values = set([row[col] for row in rows]) \n",
        "\n",
        "      for val in values:  \n",
        "\n",
        "          question = Question(col, val)\n",
        "\n",
        "        \n",
        "          true_rows, false_rows = partition(rows, question)\n",
        "\n",
        "          \n",
        "          if len(true_rows) == 0 or len(false_rows) == 0:\n",
        "              continue\n",
        "\n",
        "          gain=0\n",
        "\n",
        "          if metric==\"gini\":\n",
        "            gain = info_gain_gini(true_rows, false_rows, current_uncertainty)\n",
        "\n",
        "          if metric==\"mis_calc\":\n",
        "            gain = info_gain_mis_calc(true_rows, false_rows, current_uncertainty)\n",
        "\n",
        "          if metric==\"entropy\":\n",
        "        \n",
        "            gain = info_gain_entropy(true_rows, false_rows, current_uncertainty)\n",
        "\n",
        "\n",
        "          if gain >= best_gain:\n",
        "              best_gain, best_question = gain, question\n",
        "\n",
        "  return best_gain, best_question\n",
        "  \n",
        "\n",
        "class Leaf:\n",
        "\n",
        "  def __init__(self, rows):\n",
        "      self.predictions = class_counts(rows)\n",
        "\n",
        "\n",
        "class DecisionNode:\n",
        "\n",
        "  def __init__(self,question,true_branch,false_branch):\n",
        "      self.question = question\n",
        "      self.true_branch = true_branch\n",
        "      self.false_branch = false_branch\n",
        "\n",
        "\n",
        "class DecisionTree:\n",
        "\n",
        "  def __int__(self):\n",
        "    pass\n",
        "\n",
        "  def fit(self,rows,metric):\n",
        "      \n",
        "    gain, question = find_best_split(rows,metric)\n",
        "\n",
        "\n",
        "    if gain == 0:\n",
        "      return Leaf(rows)\n",
        "\n",
        "\n",
        "    true_rows, false_rows = partition(rows, question)\n",
        "\n",
        "\n",
        "    true_branch = self.fit(true_rows,metric)\n",
        "\n",
        "\n",
        "    false_branch = self.fit(false_rows,metric)\n",
        "\n",
        "\n",
        "    return DecisionNode(question, true_branch, false_branch)\n",
        "\n",
        "  def print_tree(self,node, spacing=\"\"):\n",
        "    \n",
        "\n",
        "    if isinstance(node, Leaf):\n",
        "        print (spacing + \"Predict\", node.predictions)\n",
        "        return\n",
        "\n",
        "    \n",
        "    print (spacing + str(node.question)+\"\\n\")\n",
        "\n",
        "\n",
        "    print (spacing + 'Label: True: Branch')\n",
        "    self.print_tree(node.true_branch, spacing + \"  \")\n",
        "\n",
        "    print (spacing + 'Label: False: Branch')\n",
        "    self.print_tree(node.false_branch, spacing + \"  \")\n",
        "\n",
        "\n",
        "\n",
        "  def print_tree_to_File(self,node,file, spacing=\"\"):\n",
        "    \n",
        "\n",
        "    if isinstance(node, Leaf):\n",
        "      file.write (spacing + \"Predict-- \"+ str(node.predictions)+\"\\n\")\n",
        "      return\n",
        "\n",
        "    \n",
        "    file.write(spacing + str(node.question)+'\\n')\n",
        "\n",
        "\n",
        "    file.write(spacing + 'Label: True: Branch'+\"\\n\")\n",
        "    self.print_tree_to_File(node.true_branch,file, spacing + \"  \")\n",
        "\n",
        "    file.write(spacing + 'Label: False:'+\"\\n\")\n",
        "    self.print_tree_to_File(node.false_branch,file, spacing + \"  \")\n",
        "\n",
        "  def get_leaf(self,counts):\n",
        "    \n",
        "    total = sum(counts.values()) * 1.0\n",
        "    probs = {}\n",
        "    for lbl in counts.keys():\n",
        "        probs[lbl] = str(int(counts[lbl] / total * 100)) + \"%\"\n",
        "    return probs\n",
        "\n",
        "  def classify(self,row,node):\n",
        "\n",
        "    if isinstance(node, Leaf):\n",
        "        return node.predictions\n",
        "\n",
        "    if node.question.match(row):\n",
        "        return self.classify(row, node.true_branch)\n",
        "    else:\n",
        "        return self.classify(row, node.false_branch)\n",
        "\n",
        "  def predict(self,rows,node):\n",
        "    correct=0\n",
        "    for row in rows:\n",
        "      counts=self.get_leaf(self.classify(row,node))\n",
        "      #print(counts)\n",
        "      for key,values in counts.items():\n",
        "        if values==\"100%\":\n",
        "          correct+=1\n",
        "    return (correct/len(rows))*100\n"
      ],
      "execution_count": 106,
      "outputs": []
    },
    {
      "cell_type": "markdown",
      "metadata": {
        "id": "N8tisI0rABrd"
      },
      "source": [
        "1. b) Train a decision tree object of the above class on the WBC dataset using misclassification rate, entropy and Gini as the splitting metrics."
      ]
    },
    {
      "cell_type": "code",
      "metadata": {
        "id": "PM_O8jULEVn2"
      },
      "source": [
        "dt_misc=DecisionTree()\n",
        "node_misc=dt_misc.fit(train,\"mis_calc\")\n"
      ],
      "execution_count": 107,
      "outputs": []
    },
    {
      "cell_type": "code",
      "metadata": {
        "id": "o9woH8bXXTTt"
      },
      "source": [
        "dt_gini=DecisionTree()\n",
        "node_gini=dt_gini.fit(train,\"gini\")\n",
        "#dt_gini.predict(test,node_gini)"
      ],
      "execution_count": 108,
      "outputs": []
    },
    {
      "cell_type": "code",
      "metadata": {
        "id": "yXLvY1KkXTfa"
      },
      "source": [
        "dt_entropy=DecisionTree()\n",
        "node_entropy=dt_entropy.fit(train,\"entropy\")\n",
        "#dt_entropy.predict(test,node_entropy)"
      ],
      "execution_count": 109,
      "outputs": []
    },
    {
      "cell_type": "markdown",
      "metadata": {
        "id": "KS_5y9sPFrYv"
      },
      "source": [
        "1. c) Report the accuracies in each of the above splitting metrics and give the best result. "
      ]
    },
    {
      "cell_type": "code",
      "metadata": {
        "colab": {
          "base_uri": "https://localhost:8080/"
        },
        "id": "1jDvTBgPHE19",
        "outputId": "acb993b0-afd1-42ce-8212-c1d8a698f30d"
      },
      "source": [
        "accuracies=[]\n",
        "\n",
        "accuracies.extend([dt_misc.predict(test,node_misc),dt_gini.predict(test,node_gini),dt_entropy.predict(test,node_entropy)])\n",
        "\n",
        "d = PrettyTable()\n",
        "\n",
        "d.field_names = [\"metric\",\"Accuracy%\"]\n",
        "d.add_row([\"miscalculation rate\",accuracies[0]])\n",
        "d.add_row([\"Gini impurity\",accuracies[1]])\n",
        "d.add_row([\"Entropy\",accuracies[1]])\n",
        "\n",
        "\n",
        "print(d)"
      ],
      "execution_count": 110,
      "outputs": [
        {
          "output_type": "stream",
          "text": [
            "+---------------------+--------------------+\n",
            "|        metric       |     Accuracy%      |\n",
            "+---------------------+--------------------+\n",
            "| miscalculation rate | 13.571428571428571 |\n",
            "|    Gini impurity    |       100.0        |\n",
            "|       Entropy       |       100.0        |\n",
            "+---------------------+--------------------+\n"
          ],
          "name": "stdout"
        }
      ]
    },
    {
      "cell_type": "markdown",
      "metadata": {
        "id": "CotPmJDKHD0c"
      },
      "source": [
        "1. d) Experiment with different approaches to decide when to terminate the tree(number of layers, purity measure, etc). Report and give explanations for all approaches. "
      ]
    },
    {
      "cell_type": "code",
      "metadata": {
        "id": "n_PJLrIUHZEm"
      },
      "source": [
        ""
      ],
      "execution_count": 110,
      "outputs": []
    },
    {
      "cell_type": "markdown",
      "metadata": {
        "id": "E3BO_sxvHZ3m"
      },
      "source": [
        "1. e) Does standardisation and normalisation help in this case? Report"
      ]
    },
    {
      "cell_type": "markdown",
      "metadata": {
        "id": "bsox4fb5H0vO"
      },
      "source": [
        "Answer: Standardisation and normalisation has no impact on this and neither are they useful. since it is just calculating entropy or gini index based on the probability counts of classes."
      ]
    },
    {
      "cell_type": "markdown",
      "metadata": {
        "id": "PcCvNmtvH84l"
      },
      "source": [
        "2. Compare your trained model with a model trained by the scikit-learn DecisionTreeClassifier module. Compare accuracies."
      ]
    },
    {
      "cell_type": "code",
      "metadata": {
        "id": "OzSDqUoNHaOg"
      },
      "source": [
        "from sklearn import tree\n",
        "\n",
        "accuracy2=[]\n",
        "\n",
        "clf=tree.DecisionTreeClassifier(criterion=\"gini\")\n",
        "clf=clf.fit(train,y_train)\n",
        "score=clf.score(test,y_test)\n",
        "#print(dt_gini.predict(test,node_entropy))\n",
        "accuracy2.append(score*100)\n",
        "\n",
        "\n",
        "clf1=tree.DecisionTreeClassifier(criterion=\"entropy\")\n",
        "clf1=clf1.fit(train,y_train)\n",
        "score=clf1.score(test,y_test)\n",
        "#print(dt_gini.predict(test,node_entropy))\n",
        "accuracy2.append(score*100)\n",
        "\n"
      ],
      "execution_count": 111,
      "outputs": []
    },
    {
      "cell_type": "code",
      "metadata": {
        "colab": {
          "base_uri": "https://localhost:8080/"
        },
        "id": "3Rz-CKGU6qeM",
        "outputId": "efcb0abe-8799-4a33-f3b8-fdb1ab262545"
      },
      "source": [
        "s = PrettyTable()\n",
        "\n",
        "s.field_names = [\"metric\",\"From Scratch\",\"sklearn\"]\n",
        "s.add_row([\"miscalculation rate\",accuracies[0],\"\"])\n",
        "s.add_row([\"Gini impurity\",accuracies[1],accuracy2[0]])\n",
        "s.add_row([\"Entropy\",accuracies[1],accuracy2[1]])\n",
        "\n",
        "\n",
        "print(s)"
      ],
      "execution_count": 112,
      "outputs": [
        {
          "output_type": "stream",
          "text": [
            "+---------------------+--------------------+---------+\n",
            "|        metric       |    From Scratch    | sklearn |\n",
            "+---------------------+--------------------+---------+\n",
            "| miscalculation rate | 13.571428571428571 |         |\n",
            "|    Gini impurity    |       100.0        |  100.0  |\n",
            "|       Entropy       |       100.0        |  100.0  |\n",
            "+---------------------+--------------------+---------+\n"
          ],
          "name": "stdout"
        }
      ]
    },
    {
      "cell_type": "markdown",
      "metadata": {
        "id": "TXOy8NUqIHlh"
      },
      "source": [
        "3. Output a depth first traversal of your decision tree in a file named ```outputimp.txt``` respectively in the following format and submit it along with the assignment.\n",
        "\n",
        "\n",
        "```\n",
        "<Node classification criteria in words.>\n",
        "<Branch label>\n",
        "  ... And so on, recursively.\n",
        "```\n",
        " \n",
        "For example,\n",
        "a depth first search traversal for the below decision tree would be:\n",
        "\n",
        "![Decision tree (4).png](data:image/png;base64,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)\n",
        "```\n",
        "Is A>5?\n",
        "True Branch\n",
        "  Is B>10?\n",
        "  True Branch\n",
        "    Versicolor\n",
        "  Is B>10?\n",
        "  False Branch\n",
        "    Setosa\n",
        "Is A>5?\n",
        "False Branch\n",
        "\tVirginica\n",
        "\n",
        "```\n",
        "\n",
        "\n"
      ]
    },
    {
      "cell_type": "code",
      "metadata": {
        "id": "nvqtvFyFOZXF"
      },
      "source": [
        "with open(\"outputimp.txt\",'w') as f:\n",
        "  dt_gini.print_tree_to_File(node_gini,f)"
      ],
      "execution_count": 113,
      "outputs": []
    },
    {
      "cell_type": "markdown",
      "metadata": {
        "id": "ZS1jGnaKOaG7"
      },
      "source": [
        "4. Experiment with removing features that are redundant, highly correlated with other features and report accuracies of the resulting model. Explain your approach."
      ]
    },
    {
      "cell_type": "code",
      "metadata": {
        "colab": {
          "base_uri": "https://localhost:8080/",
          "height": 308
        },
        "id": "2vMLvn1UOZu7",
        "outputId": "18698ec1-4346-44e4-e242-d684759d9ea7"
      },
      "source": [
        "import seaborn as sn\n",
        "import matplotlib.pyplot as plt\n",
        "\n",
        "\n",
        "corrMatrix=data.corr()\n",
        "\n",
        "sn.heatmap(corrMatrix, annot=True,cmap=\"coolwarm\")\n",
        "plt.show()\n"
      ],
      "execution_count": 114,
      "outputs": [
        {
          "output_type": "display_data",
          "data": {
            "image/png": "[encoded data removed]",
            "text/plain": [
              "<Figure size 432x288 with 2 Axes>"
            ]
          },
          "metadata": {
            "tags": [],
            "needs_background": "light"
          }
        }
      ]
    },
    {
      "cell_type": "markdown",
      "metadata": {
        "id": "a4tIuYGCJjZM"
      },
      "source": [
        "From the above correlation matrix we can conclude that (UCsize,UCShape),(Mitoses,BC), (Mitoses,BN), (Mitoses,CT). So, we will drop those features and retain the remaining."
      ]
    },
    {
      "cell_type": "code",
      "metadata": {
        "id": "idKhX3XXJlWY"
      },
      "source": [
        "data=data.drop(['UCSize', 'UCShape','Mitoses','BN','CT'], axis = 1) \n"
      ],
      "execution_count": 115,
      "outputs": []
    },
    {
      "cell_type": "code",
      "metadata": {
        "colab": {
          "base_uri": "https://localhost:8080/"
        },
        "id": "qzNavb8wKC-T",
        "outputId": "6c8af51f-3145-4012-9915-51ad1279c32f"
      },
      "source": [
        "X=data.values\n",
        "#y=data.values[:,-1]\n",
        "header=headers[:-1]\n",
        "\n",
        "\n",
        "train, test= train_test_split(X, test_size=0.2, random_state=1)\n",
        "y_train=train[:,-1]\n",
        "y_test=test[:,-1]\n",
        "\n",
        "\n",
        "\n",
        "dt_misc1=DecisionTree()\n",
        "node_misc=dt_misc1.fit(train,\"mis_calc\")\n",
        "\n",
        "\n",
        "dt_gini1=DecisionTree()\n",
        "node_gini=dt_gini1.fit(train,\"gini\")\n",
        "#dt_gini.predict(test,node_gini)\n",
        "\n",
        "dt_entropy1=DecisionTree()\n",
        "node_entropy=dt_entropy1.fit(train,\"entropy\")\n",
        "#dt_entropy.predict(test,node_entropy)\n",
        "\n",
        "accuracies=[]\n",
        "\n",
        "accuracies.extend([dt_misc.predict(test,node_misc),dt_gini.predict(test,node_gini),dt_entropy.predict(test,node_entropy)])\n",
        "\n",
        "b = PrettyTable()\n",
        "\n",
        "b.field_names = [\"metric\",\"Accuracy%\"]\n",
        "b.add_row([\"miscalculation rate\",accuracies[0]])\n",
        "b.add_row([\"Gini impurity\",accuracies[1]])\n",
        "b.add_row([\"Entropy\",accuracies[1]])\n",
        "\n",
        "\n",
        "print(b)"
      ],
      "execution_count": 116,
      "outputs": [
        {
          "output_type": "stream",
          "text": [
            "+---------------------+-------------------+\n",
            "|        metric       |     Accuracy%     |\n",
            "+---------------------+-------------------+\n",
            "| miscalculation rate | 6.428571428571428 |\n",
            "|    Gini impurity    |       100.0       |\n",
            "|       Entropy       |       100.0       |\n",
            "+---------------------+-------------------+\n"
          ],
          "name": "stdout"
        }
      ]
    },
    {
      "cell_type": "markdown",
      "metadata": {
        "id": "8Y1X77mCLEK2"
      },
      "source": [
        "As you can see the accuracies for the gini impurity and the entropy remains the same and the miscalculation rate accuracy \n",
        "decreases "
      ]
    },
    {
      "cell_type": "markdown",
      "metadata": {
        "id": "IrDwLUnaPdaQ"
      },
      "source": [
        "5. Report the advantages and disadvantages of decision trees based on the above question."
      ]
    },
    {
      "cell_type": "markdown",
      "metadata": {
        "id": "glMTM1WTPfwO"
      },
      "source": [
        "##Answer:\n",
        "\n",
        "###Advantages:\n",
        "1.   Decision tree requires less data\n",
        "2.  Decision trees does not require Normalisation or scaling.\n",
        "3.  Decision tree model is easy to implement and intuitive to understand\n",
        "\n",
        "\n",
        "---\n",
        "\n",
        "\n",
        "\n",
        "####DisAdvantages:\n",
        "\n",
        "\n",
        "1.   A small change in data can cause a large change in the structure of the decision tree \n",
        "2.   Sometimes calculations can be complex related to information gain.\n",
        "\n",
        "\n",
        "\n",
        "\n",
        "\n",
        "\n",
        "\n",
        "\n",
        "\n",
        "\n",
        "\n",
        "\n",
        "\n"
      ]
    },
    {
      "cell_type": "code",
      "metadata": {
        "id": "zdP0r7Icth9k"
      },
      "source": [
        ""
      ],
      "execution_count": null,
      "outputs": []
    }
  ]
}